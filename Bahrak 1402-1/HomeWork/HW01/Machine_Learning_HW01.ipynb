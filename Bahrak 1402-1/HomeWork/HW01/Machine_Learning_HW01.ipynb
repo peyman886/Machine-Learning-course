{
  "nbformat": 4,
  "nbformat_minor": 0,
  "metadata": {
    "colab": {
      "provenance": []
    },
    "kernelspec": {
      "name": "python3",
      "display_name": "Python 3"
    },
    "language_info": {
      "name": "python"
    }
  },
  "cells": [
    {
      "cell_type": "markdown",
      "source": [
        "Hello everyone,\n",
        "\n",
        "Welcome to the Machine Learning (ML) course for the Fall 2023 semester! We want to extend a warm and enthusiastic greeting to each and every one of you.\n",
        "\n",
        "In the coming months, we will investigate a wide range of topics, including different supervised and unsupervised learning methods, and use them on real-world data to explore the challenges people typically encounter in this field.\n",
        "\n",
        "**A quick word on honor code:** Honor codes try to fostering academic honesty, trust, and commitment to uphold ethical standards. Here we provide a small honor code to discourage any kind of plagiarism, cheating and unauthorized collaboration.\n",
        "\n",
        "1. **Implementation Questions**\n",
        "    - You are <u> strictly prohibited </u> to read code snippets from your classmates.\n",
        "    - You are <u> strictly prohibited </u> from *copying* code from any external source, except for Q&A websites like Stack Overflow. If you do use code from such sources, it is imperative to properly attribute and mention the source in your implementation.\n",
        "\n",
        "2. **Non-implementation questions**\n",
        "    - You should use your own words and not just copying the answers from ChatGPT or any other source on the web.\n",
        "    - Please provide the source for any material you are using to answer the questions.\n",
        "    - You are <u> strictly prohibited </u> to read and copy the answers of your classmates.\n",
        "\n",
        "If we suspect that you have violated any of the above rules, you may lose the whole score of that exercise.\n",
        "\n",
        "<font color='RED' size='+1'>**Important Note:**</font> Remember that <u>interpreting and analyzing</u> your code is just as important as the implementation itself. Therefore, it is crucial to not only write code but also to <u>document and provide detailed analysis</u> of the results and insights derived from the code. This analysis should explain the significance of the findings, highlight any patterns or trends observed, and offer interpretations that contribute to a deeper understanding of the data or problem at hand. Additionally, ensure that your code is <u>well-commented</u> to enhance its readability and facilitate comprehension.\n",
        "\n",
        "\n",
        "As your teaching assistants, we are here to support your learning journey throughout the Fall 2023 semester. If you have any questions about the course material, need guidance on assignments, or seek additional resources, please don't hesitate to reach out to us.\n",
        "\n",
        "Best regards, </br>\n",
        "Sina Abbasi, Armin Tourajmehr"
      ],
      "metadata": {
        "id": "ts6G_sYkXR1w"
      }
    },
    {
      "cell_type": "markdown",
      "source": [
        "# End-to-End Machine Learning Project\n",
        "\n",
        "For your first exercise, we will go through different steps of an ML task and try to solve a problem on a real-world dataset.\n",
        "This exercise covers the $2^{nd}$ chapter of the *Hands-On Machine Learning* book, which is your main resource for this course. You can refer to the book for more details about each of these steps."
      ],
      "metadata": {
        "id": "GTsNHpO6Qtvb"
      }
    },
    {
      "cell_type": "markdown",
      "source": [
        "## Look at the Big Picture\n",
        "\n"
      ],
      "metadata": {
        "id": "2F7-BcG8RsuH"
      }
    },
    {
      "cell_type": "markdown",
      "source": [
        "### Frame the Problem\n",
        "\n",
        "We use ML to solve a problem. This could be detecting whether an email is spam or not, or estimating the price of a house based on its features. As we can see, different problems have different goals, and the goal is not probably just building a model. In an ML task, this goal is called objective, and the objective is always an essential part of any ML task because it determines what we are looking for. Based on that, we can choose the most appropriate algorithm and performance measure to tackle the problem. Another valuable thing to know is the current solution, whether as a clue to solve the task at hand or as a reference for performance.\n",
        "\n",
        "With all this information, you are now ready to start designing your system. First, determine what kind of training supervision the model will need: is it a supervised, unsupervised, semi-supervised, self-supervised, or reinforcement learning task?\n",
        "\n",
        "<font color='#D61E85' size='+2'>**Q1:**</font> Explain each of these five kind of supervision in one paragraph. Provide an example for each one of them.\n"
      ],
      "metadata": {
        "id": "wC268ikgSFvh"
      }
    },
    {
      "cell_type": "markdown",
      "source": [
        "<font color='#8FCF26' size='+2'>**A1:**</font>\n",
        "\n",
        "**1.Supervised Learning**\n",
        "\n",
        "*In this approach, the data consists of a set of features and labels, and the model learns to predict those labels based on these features. To achieve this, it attempts to minimize a loss function, which includes the error between the model's predictions and the actual labels. This approach can be broadly divided into two categories: regression and classification. In regression, our label is a real value, for example, predicting the price of a house based on its features. In classification, our label is a discrete value, such as determining whether an image contains a dog or a cat.*\n",
        "\n",
        "\n",
        "\n",
        "**2.Unsupervised Learning**\n",
        "\n",
        "*In this approach, our data is unlabeled, and the model strives to discover specific patterns inherent in the data. For example, in a clustering problem, the model attempts to group the data based on their similarity into different clusters. A real-world problem that this approach can address is the classification of customers of an online retailer based on their purchase history.*\n",
        "\n",
        "\n",
        "\n",
        "**3.Semi-Supervised**\n",
        "\n",
        "*This approach is a combination of the two previous ones, in a way that some of the data have labels, and another portion (often a larger one) does not have labels. The model attempts to learn labels from the features of the unlabeled data while simultaneously making use of patterns that exist within the data. For example, it can leverage a language model trained on a large amount of unlabeled data to solve a text classification problem.*\n",
        "\n",
        "\n",
        "**4.Self-Supervised**\n",
        "\n",
        "*In this approach, the model creates labels without the need for human intervention, directly from the data, and then, similar to the first approach, operates on it as if it were a supervised learning problem. For example, it can be used for tasks like automatic sentence completion or filling in missing parts of an image.*\n",
        "\n",
        "\n",
        "**5.Reinforcement Learning**\n",
        "\n",
        "*In this approach, an intelligent agent interacts with an environment, striving to make the best decisions to maximize its cumulative reward. For example, self-driving cars, by navigating roads while considering penalties and rewards for their actions in various driving scenarios, aim to maximize their overall reward.*\n"
      ],
      "metadata": {
        "id": "cGLjyBhzigUI"
      }
    },
    {
      "cell_type": "markdown",
      "source": [
        "### Select a Performance Measure\n",
        "\n",
        "In ML, a performance measure, also known as an evaluation metric, is a measure used to assess the performance or effectiveness of a machine learning model. It quantifies how well the model is able to accomplish its intended task. The choice of performance measure depends on the specific problem and the desired objective."
      ],
      "metadata": {
        "id": "PdNotLKDlFiC"
      }
    },
    {
      "cell_type": "markdown",
      "source": [
        "## Data\n",
        "\n",
        "It serves as the foundation for model training and the model looking for the patterns in the data provided in order to make predictions on unseen samples. The data we chose for this exercise is Medical Cost Personal Datasets, which you can learn more about it in the next section.\n",
        "\n",
        "\n"
      ],
      "metadata": {
        "id": "2Dy0mkPmnAFP"
      }
    },
    {
      "cell_type": "markdown",
      "source": [
        "### About the Data\n",
        "\n",
        "The meaning of each column in the dataset is as follows:\n",
        "\n",
        "* **age:** age of primary beneficiary\n",
        "* **sex:** insurance contractor gender, female, male\n",
        "* **bmi:** Body mass index, providing an understanding of body, weights that are relatively high or low relative to height, objective index of body weight $(kg / m ^ 2)$ using the ratio of height to weight, ideally 18.5 to 24.9\n",
        "* **children:** Number of children covered by health insurance / Number of dependents\n",
        "* **smoker:** Smoking\n",
        "* **region:** the beneficiary's residential area in the US, northeast, southeast, southwest, northwest.\n",
        "* **charges:** Individual medical costs billed by health insurance"
      ],
      "metadata": {
        "id": "i3lmC0eRmXr9"
      }
    },
    {
      "cell_type": "markdown",
      "source": [
        "<font color='#D61E85' size='+2'>**Q2:**</font> The data provided for this exercise can be used for both classification and regression tasks. Explain the difference between classification and regression tasks in just one paragraph by making use of examples. Now, consider we are trying to estimate individual medical costs billed by health insurance using the data provided. What type of supervision can we use for it?"
      ],
      "metadata": {
        "id": "2DXd0vYOl-wo"
      }
    },
    {
      "cell_type": "markdown",
      "source": [
        "<font color='#8FCF26' size='+2'>**A2:**</font> *In supervised learning, if the label is a continuous value, the problem falls into the category of regression. For example, predicting the price of a house based on its features. However, if the label is a discrete value, the problem is a classification task. For instance, determining whether an email is spam or not. With these descriptions, the problem of estimating an individual's medical expenses is of the regression (Supervised learning) type.*"
      ],
      "metadata": {
        "id": "SREb7s9HjdOq"
      }
    },
    {
      "cell_type": "markdown",
      "source": [
        "<font color='#D61E85' size='+2'>**Q3:**</font> Considering the fact that we want to estimate medical costs billed by health insurance for each person, we know it’s a regression task. The performance measures we can use are MAE, MSE, MAPE, and R2-score. Write down the equation and explain the intuition behind each of them."
      ],
      "metadata": {
        "id": "OdfCvIt_oy5i"
      }
    },
    {
      "cell_type": "markdown",
      "source": [
        "<font color='#8FCF26' size='+2'>**A3:**</font>\n",
        "\n",
        "\n",
        "1. **Mean Absolute Error (MAE)**\n",
        "\\begin{equation}\n",
        "MAE = \\frac{1}{n} \\sum_{i=1}^{n} \\left| \\text{actual}_i - \\text{predicted}_i \\right|\n",
        "\\end{equation}\n",
        "\n",
        "  The Mean Absolute Error (MAE) calculates the average absolute difference between the actual and predicted values. It represents the average magnitude of errors in the predictions. A lower MAE indicates that the model's predictions are, on average, closer to the actual values, making it a useful metric for assessing the accuracy of the model's predictions.\n",
        "\n",
        "\n",
        "\n",
        "2. **Mean Squared Error (MSE)**\n",
        "\\begin{equation}\n",
        "MSE = \\frac{1}{n} \\sum_{i=1}^{n} \\left( \\text{actual}_i - \\text{predicted}_i \\right)^2\n",
        "\\end{equation}\n",
        "\n",
        "  The Mean Squared Error (MSE) calculates the average of the squared differences between the actual and predicted values. Squaring the errors gives more weight to larger errors, which can be helpful in penalizing outliers. However, MSE makes the metric less interpretable than MAE because it measures the average of squared errors.\n",
        "\n",
        "\n",
        "\n",
        "3. **Mean Absolute Percentage Error (MAPE)**\n",
        "\\begin{equation}\n",
        "MAPE = \\frac{1}{n} \\sum_{i=1}^{n} \\left| \\frac{\\text{actual}_i - \\text{predicted}_i}{\\text{actual}_i} \\right| \\times 100\\%\n",
        "\\end{equation}\n",
        "\n",
        "  The Mean Absolute Percentage Error (MAPE) measures the average percentage difference between the actual and predicted values. It is particularly useful when you want to understand the relative error in terms of percentages. MAPE is more interpretable in cases where you need to express errors in relative terms, and it provides insight into the magnitude of errors relative to the actual values.\n",
        "\n",
        "  \n",
        "\n",
        "4. **R-squared (R2) Score**\n",
        "\\begin{equation}\n",
        "R2 = 1 - \\frac{MSE(\\text{model})}{MSE(\\text{mean})}\n",
        "\\end{equation}\n",
        "\n",
        "  The R-squared (R2) score, also known as the coefficient of determination, measures the proportion of the variance in the dependent variable that can be explained by the independent variables in the model. An R2 score of 1 indicates a perfect model that explains all the variance, while a score of 0 means that the model performs no better than simply predicting the mean of the dependent variable. Negative values of R2 can occur if the model performs worse than a model that predicts the mean. It is a measure of how well the model fits the data and provides insights into its goodness of fit.\n",
        "\n"
      ],
      "metadata": {
        "id": "a7C23wpVm6Cf"
      }
    },
    {
      "cell_type": "markdown",
      "source": [
        "Finding the data is not all that matters. Before you can start to build your model and predict, you need to get insights about data, which could be done using simple methods such as `info()`, `head()`, `describe()`, and `value_counts()`. You can also visualize the data for more insights, which we get to that in the next part of our checklist.\n",
        "\n",
        "<font color='#D61E85' size='+2'>**Q4:**</font> Try to perform these methods on our dataset and get some insight about it. Is there any other methods to use?\n",
        "\n",
        "<font color='#8FCF26' size='+2'>**A4:**</font> Create some cell down below to write and run your code."
      ],
      "metadata": {
        "id": "ywJrhJEZAsH_"
      }
    },
    {
      "cell_type": "code",
      "source": [
        "import pandas as pd\n",
        "\n",
        "# Load the dataset\n",
        "insurance_data = pd.read_csv(\"insurance.csv\")"
      ],
      "metadata": {
        "id": "A57LjY6xF4xG"
      },
      "execution_count": 6,
      "outputs": []
    },
    {
      "cell_type": "code",
      "source": [
        "# Get a summary of the dataset\n",
        "print(insurance_data.info())"
      ],
      "metadata": {
        "id": "CW0f2dtGGAQz",
        "outputId": "befc2d87-f336-4975-c041-1795986a5ff4",
        "colab": {
          "base_uri": "https://localhost:8080/"
        }
      },
      "execution_count": 2,
      "outputs": [
        {
          "output_type": "stream",
          "name": "stdout",
          "text": [
            "<class 'pandas.core.frame.DataFrame'>\n",
            "RangeIndex: 1338 entries, 0 to 1337\n",
            "Data columns (total 7 columns):\n",
            " #   Column    Non-Null Count  Dtype  \n",
            "---  ------    --------------  -----  \n",
            " 0   age       1338 non-null   object \n",
            " 1   sex       1334 non-null   object \n",
            " 2   bmi       1337 non-null   float64\n",
            " 3   children  1338 non-null   int64  \n",
            " 4   smoker    1338 non-null   object \n",
            " 5   region    1335 non-null   object \n",
            " 6   charges   1327 non-null   float64\n",
            "dtypes: float64(2), int64(1), object(4)\n",
            "memory usage: 73.3+ KB\n",
            "None\n"
          ]
        }
      ]
    },
    {
      "cell_type": "code",
      "source": [
        "# Display the first few rows of the dataset\n",
        "print(insurance_data.head())"
      ],
      "metadata": {
        "id": "rhcax2tGGCzw",
        "outputId": "b8d547d1-7fda-4132-b8aa-7ff3c2f418ea",
        "colab": {
          "base_uri": "https://localhost:8080/"
        }
      },
      "execution_count": 3,
      "outputs": [
        {
          "output_type": "stream",
          "name": "stdout",
          "text": [
            "  age     sex     bmi  children smoker     region      charges\n",
            "0  19  female  27.900         0    yes  southwest  16884.92400\n",
            "1  18    male  33.770         1     no  southeast   1725.55230\n",
            "2  28    male  33.000         3     no  southeast   4449.46200\n",
            "3  33    male  22.705         0     no  northwest  21984.47061\n",
            "4  32    male  28.880         0     no  northwest   3866.85520\n"
          ]
        }
      ]
    },
    {
      "cell_type": "code",
      "source": [
        "# Generate summary statistics for numerical columns\n",
        "print(insurance_data.describe())"
      ],
      "metadata": {
        "id": "VcNFpa23GF6Q",
        "outputId": "e8497b0d-2658-4184-caad-7e93e33f171b",
        "colab": {
          "base_uri": "https://localhost:8080/"
        }
      },
      "execution_count": 4,
      "outputs": [
        {
          "output_type": "stream",
          "name": "stdout",
          "text": [
            "               bmi     children       charges\n",
            "count  1337.000000  1338.000000   1327.000000\n",
            "mean     30.845808     1.127803  13251.386466\n",
            "std       8.745771     1.701587  12115.053915\n",
            "min       0.000000    -1.000000   1121.873900\n",
            "25%      26.220000     0.000000   4729.002375\n",
            "50%      30.400000     1.000000   9304.701900\n",
            "75%      34.700000     2.000000  16582.138605\n",
            "max     231.600000    45.000000  63770.428010\n"
          ]
        }
      ]
    },
    {
      "cell_type": "code",
      "source": [
        "# Count the unique values in the \"sex\" column\n",
        "print(insurance_data['sex'].value_counts())"
      ],
      "metadata": {
        "id": "L6daTGVOGI1L",
        "outputId": "6b442883-e284-4265-ee77-cd8d1a11855c",
        "colab": {
          "base_uri": "https://localhost:8080/"
        }
      },
      "execution_count": 5,
      "outputs": [
        {
          "output_type": "stream",
          "name": "stdout",
          "text": [
            "male      675\n",
            "female    658\n",
            "femle       1\n",
            "Name: sex, dtype: int64\n"
          ]
        }
      ]
    },
    {
      "cell_type": "markdown",
      "source": [
        "At last, you need to split the data to train, validation, and test splits. <font color='#D61E85' size='+2'>**Q5:**</font> Why we do this and what is the use of each of them?\n",
        "\n",
        "Rememeber from now on, you must only consider training and validation sets in your analysis and you are not allowed to use the test set except for prediction."
      ],
      "metadata": {
        "id": "uqu3nCKqtAlW"
      }
    },
    {
      "cell_type": "markdown",
      "source": [
        "<font color='#8FCF26' size='+2'>**A5:**</font>\n",
        "\n",
        "1. **Training Data**:\n",
        "   - **Purpose:** The training dataset is used to train the machine learning model. The model learns patterns and relationships in the data, enabling it to make predictions or classifications.\n",
        "   - **Use:** The model is fitted to the training data, and its parameters (weights and biases) are adjusted to minimize the training error. The training data helps the model generalize from the examples it has seen and learn to make accurate predictions on new, unseen data.\n",
        "\n",
        "2. **Validation Data**:\n",
        "   - **Purpose:** The validation dataset is used to fine-tune the model's hyperparameters and assess its performance during training. It helps in preventing overfitting and selecting the best model.\n",
        "   - **Use:** During training, the model's hyperparameters (e.g., learning rate, regularization strength) are adjusted using the validation data. The validation set provides an independent measure of the model's performance and helps in early stopping when the model's performance on the validation data starts to degrade. This prevents the model from becoming too specific to the training data.\n",
        "\n",
        "3. **Test Data**:\n",
        "   - **Purpose:** The test dataset is used to evaluate the final performance of the trained model. It provides an unbiased estimate of the model's accuracy on unseen data.\n",
        "   - **Use:** After the model is fully trained and the hyperparameters are tuned, the test data is used to assess how well the model will perform in real-world scenarios. It provides an objective measure of the model's generalization ability and ensures that the model has not overfit to the training data.\n",
        "\n",
        "In summary, the primary reasons for splitting data into training, validation, and test sets are:\n",
        "\n",
        "- *Training data is used to train the model and enable it to make predictions.*\n",
        "- *Validation data is used to fine-tune the model's hyperparameters and monitor its performance during training.*\n",
        "- *Test data is used to evaluate the model's final performance and ensure it can make accurate predictions on new, unseen data.*\n",
        "\n",
        "This separation helps in building models that are more likely to perform well in real-world scenarios and avoid issues like ***overfitting***.\n"
      ],
      "metadata": {
        "id": "dfl_mJnq3V6t"
      }
    },
    {
      "cell_type": "markdown",
      "source": [
        "<font color='#D61E85' size='+2'>**Q6:**</font> Split the dataset into training, validation, and test sets using the following ratios: 70% for training, 10% for validation, and 20% for testing.\n",
        "<font color='#8FCF26' size='+2'>**A6:**</font> Create some cell down below to write and run your code."
      ],
      "metadata": {
        "id": "6CNuy1HG3c7k"
      }
    },
    {
      "cell_type": "code",
      "source": [
        "import numpy as np\n",
        "from sklearn.model_selection import train_test_split\n",
        "\n",
        "# Set a random state for reproducibility\n",
        "random_state = 42\n",
        "\n",
        "# Split the data into features (X) and target (y)\n",
        "X = insurance_data.drop(columns=['charges'])\n",
        "y = insurance_data['charges']\n",
        "\n",
        "# First, split the data into training (70%) and temporary (30%)\n",
        "X_train_temp, X_temp, y_train_temp, y_temp = train_test_split(X, y, test_size=0.3, random_state=random_state)\n",
        "\n",
        "# Then, split the temporary data into validation (10%) and test (20%)\n",
        "X_val, X_test, y_val, y_test = train_test_split(X_temp, y_temp, test_size=2/3, random_state=random_state)\n",
        "\n",
        "# Now we have X_train, y_train for training, X_val, y_val for validation, and X_test, y_test for testing\n"
      ],
      "metadata": {
        "id": "gVmoDMaSHQ_s"
      },
      "execution_count": 8,
      "outputs": []
    },
    {
      "cell_type": "markdown",
      "source": [
        "##\tExplore and Visualize the Data to Gain Insights\n",
        "\n",
        "What we did so far was just a quick glance on the data. Now, it's time to get deeper insights about the data.\n"
      ],
      "metadata": {
        "id": "PVLGSv19-tAa"
      }
    },
    {
      "cell_type": "markdown",
      "source": [
        "### Visualizing Geographical Data\n",
        "\n",
        "Histograms, boxplot, pie charts, doughnut charts, line charts, multi-series line charts, bar charts, column charts, stacked bar charts, area charts, scatter plots, bubble charts, etc, are among the charts and diagrams you can draw for the dataset.\n",
        "\n",
        "<font color='#D61E85' size='+2'>**Q7:**</font> Draw some charts and diagrams. You don't need to use all of them, just the ones that will help you to understand the dataset better.\n",
        "\n",
        "<font color='#8FCF26' size='+2'>**A7:**</font> Create some cell down below to write and run your code."
      ],
      "metadata": {
        "id": "IEYnHQeI_1oh"
      }
    },
    {
      "cell_type": "markdown",
      "source": [
        "**Histogram with KDE:**"
      ],
      "metadata": {
        "id": "i-HdD2U9Nssc"
      }
    },
    {
      "cell_type": "code",
      "source": [
        "import matplotlib.pyplot as plt\n",
        "import seaborn as sns\n",
        "plt.figure(figsize=(18, 6))\n",
        "sns.histplot(insurance_data['age'], kde=True, color='skyblue')\n",
        "plt.xlabel('Age')\n",
        "plt.ylabel('Frequency')\n",
        "plt.title('Distribution of Ages')\n",
        "plt.show()"
      ],
      "metadata": {
        "id": "qT6qcOUHKkYr",
        "outputId": "6cdd3057-ea39-40b4-8122-c16ac1cc7b4f",
        "colab": {
          "base_uri": "https://localhost:8080/",
          "height": 434
        }
      },
      "execution_count": 22,
      "outputs": [
        {
          "output_type": "display_data",
          "data": {
            "text/plain": [
              "<Figure size 1800x600 with 1 Axes>"
            ],
            "image/png": "[encoded data removed]"
          },
          "metadata": {}
        }
      ]
    },
    {
      "cell_type": "markdown",
      "source": [
        "**Box Plot:**"
      ],
      "metadata": {
        "id": "Em3OMRw2N1ap"
      }
    },
    {
      "cell_type": "code",
      "source": [
        "sns.boxplot(x='smoker', y='charges', data=insurance_data, palette='Set2')\n",
        "plt.xlabel('Smoker')\n",
        "plt.ylabel('Charges')\n",
        "plt.title('Charges by Smoking Status')\n",
        "plt.show()"
      ],
      "metadata": {
        "id": "-b-PDMNhNo7n",
        "outputId": "34732604-e4bf-4301-b938-ec5cdf94c149",
        "colab": {
          "base_uri": "https://localhost:8080/",
          "height": 472
        }
      },
      "execution_count": 26,
      "outputs": [
        {
          "output_type": "display_data",
          "data": {
            "text/plain": [
              "<Figure size 640x480 with 1 Axes>"
            ],
            "image/png": "[encoded data removed]"
          },
          "metadata": {}
        }
      ]
    },
    {
      "cell_type": "markdown",
      "source": [
        "**Pie Chart:**"
      ],
      "metadata": {
        "id": "smSuoBqVN8f-"
      }
    },
    {
      "cell_type": "code",
      "source": [
        "plt.figure(figsize=(6, 3))\n",
        "sns.countplot(x='sex', data=insurance_data, palette='pastel')\n",
        "plt.title('Gender Distribution')\n",
        "plt.show()\n"
      ],
      "metadata": {
        "id": "ph1BW5Q3N50W",
        "outputId": "afc6a4ff-0b08-4d4b-da89-51d546b79a1f",
        "colab": {
          "base_uri": "https://localhost:8080/",
          "height": 333
        }
      },
      "execution_count": 29,
      "outputs": [
        {
          "output_type": "display_data",
          "data": {
            "text/plain": [
              "<Figure size 600x300 with 1 Axes>"
            ],
            "image/png": "[encoded data removed]"
          },
          "metadata": {}
        }
      ]
    },
    {
      "cell_type": "code",
      "source": [],
      "metadata": {
        "id": "bdl35atVOINg"
      },
      "execution_count": null,
      "outputs": []
    },
    {
      "cell_type": "markdown",
      "source": [
        "###\tLook for Correlations\n",
        "\n",
        "At first, what is correlation? You can use the video provided below to learn more about Pearson Correlation.\n",
        "\n",
        "[Pearson's Correlation, Clearly Explained!!!](https://www.youtube.com/watch?v=xZ_z8KWkhXE)\n",
        "\n",
        "<font color='#D61E85' size='+2'>**Q8:**</font> Try to find the correlation between the `charges` column which we want to predict and every other columns using `corr` method. What is the interpretation of these numbers?\n",
        "\n",
        "<font color='#8FCF26' size='+2'>**A8:**</font> Create some cell down below to write and run your code."
      ],
      "metadata": {
        "id": "fYLQ7HNJFued"
      }
    },
    {
      "cell_type": "markdown",
      "source": [
        "<font color='#D61E85' size='+2'>**Q9:**</font> This time use `scatter_matrix()` function to find correlation between different columns. Choose four columns of your choice. Try to interpret the diagram you draw. The explanations is more important than the diagram.\n",
        "\n",
        "<font color='#8FCF26' size='+2'>**A9:**</font> Create some cell down below to write and run your code."
      ],
      "metadata": {
        "id": "u65LyklxK2v4"
      }
    },
    {
      "cell_type": "markdown",
      "source": [
        "### Experiment with Attribute Combinations\n",
        "\n",
        "Feature engineering involves creating new features by transforming, combining, or deriving information from existing features in order to improve the performance of a machine learning model. This process aims to enhance the predictive power or capture specific patterns or relationships that may not be apparent in the original features alone.\n",
        "\n",
        "<font color='#D61E85' size='+2'>**Q10:**</font> Try to perform feature engineering for our dataset. After creating these new features, it is important to analyze their correlations with the previous features in the dataset. By employing feature engineering methods and examining correlations, we can effectively expand the feature space and potentially uncover meaningful patterns and relationships within the dataset.\n",
        "\n",
        "**Hint:** One straightforward method is using the division operator to derive new features.\n",
        "\n",
        "<font color='#8FCF26' size='+2'>**A10:**</font> Create some cell down below to write and run your code."
      ],
      "metadata": {
        "id": "ba5ThdRsNb7j"
      }
    },
    {
      "cell_type": "markdown",
      "source": [
        "## Prepare the Data for Machine Learning Algorithms\n",
        "\n"
      ],
      "metadata": {
        "id": "f9IP08ecbgqv"
      }
    },
    {
      "cell_type": "markdown",
      "source": [
        "### Data Cleaning\n",
        "\n",
        "Missing values in datasets pose a significant challenge in machine learning. The presence of dirty data, which requires cleaning, can be categorized into various origins, including inconsistent and incomplete data. Inconsistency encompass different forms of the same word, such as \"US,\" \"USA,\" \"United States,\" and so on.\n",
        "Incompleteness, another category of dirty data, refers to missing or insufficient information. For instance, consider a dataset containing information about individuals, including their age, gender, and occupation. If some entries have missing age values, it exemplifies the issue of incompleteness within the dataset.\n",
        "\n",
        "<font color='#D61E85' size='+2'>**Q11:**</font> Dirty data have other origins, such as duplicate, incorrect, and inaccurate data. Try to explain the latter two with the help of examples.\n"
      ],
      "metadata": {
        "id": "6YAgQjwwD2xQ"
      }
    },
    {
      "cell_type": "markdown",
      "source": [
        "<font color='#8FCF26' size='+2'>**A11:**</font>"
      ],
      "metadata": {
        "id": "ZVmOfQwqpqJd"
      }
    },
    {
      "cell_type": "markdown",
      "source": [
        "<font color='#D61E85' size='+2'>**Q12:**</font> There are two strategies for dealing with incomplete/missing data: *preserving* data points and *ignoring* the missing data. *Ignoring* missing data by dropping rows and columns containing the missing value is destructive. A better solution could be to try to fill these missing values. What are our options for filling these cells in the data?"
      ],
      "metadata": {
        "id": "hJ0R8OT7tuJD"
      }
    },
    {
      "cell_type": "markdown",
      "source": [
        "<font color='#8FCF26' size='+2'>**A12:**</font>"
      ],
      "metadata": {
        "id": "8Hol-Gjn0bdy"
      }
    },
    {
      "cell_type": "markdown",
      "source": [
        "An essential step in data cleaning is to check for validity. What is considered invalid data? check [this link](https://en.wikipedia.org/wiki/Data_cleansing#Data_quality) to find out.\n",
        "\n",
        "<font color='#D61E85' size='+2'>**Q13:**</font> Using the information provided untill now, try to clean the data provided for this exercise. Try to use `fillna()`, `SimpleImputer`, `KNNImputer`, and `IterativeImputer` as *preserving* approaches. What is your preferred strategy? \"most_frequent\", \"mean\", \"median\", ... . Explain your decision."
      ],
      "metadata": {
        "id": "-s7MNrb4DGu_"
      }
    },
    {
      "cell_type": "markdown",
      "source": [
        "<font color='#8FCF26' size='+2'>**A13:**</font> Create some cell down below to write and run your code."
      ],
      "metadata": {
        "id": "250l3lnSDOfv"
      }
    },
    {
      "cell_type": "markdown",
      "source": [
        "### Handling Text and Categorical Attributes\n",
        "\n",
        "Machine learning algorithms typically require numerical inputs. By encoding categorical variables into numerical representations, we can include them in our models and leverage their information for predictions and analysis.\n",
        "\n",
        "<font color='#D61E85' size='+2'>**Q14:**</font> Using categorical encoding and one-hot encoding try to transform your dataset, so the model can take advantage of non-numerical attributes. The choice between these two techniques depends on the specific characteristics of the dataset. When would you prefer using one-hot encoding over categorical encoding, or vice versa?\n"
      ],
      "metadata": {
        "id": "L-2WMNyHD84q"
      }
    },
    {
      "cell_type": "markdown",
      "source": [
        "<font color='#8FCF26' size='+2'>**A14:**</font> Create some cell down below to write and run your code."
      ],
      "metadata": {
        "id": "8Ob5fnEZIXiC"
      }
    },
    {
      "cell_type": "markdown",
      "source": [
        "### Feature Scaling and Transformation\n",
        "\n",
        "According to book:\n",
        "\"There are two common ways to get all attributes to have the same scale: min-max scaling (normalization) and standardization.\"\n",
        "\n",
        "<font color='#D61E85' size='+2'>**Q15:**</font> Why we need feature scaling at all? Between these two common ways which one is more robust to outlier? What happened if we don’t do this in terms of convergence of the model?"
      ],
      "metadata": {
        "id": "f7I1Dv0bIyCU"
      }
    },
    {
      "cell_type": "markdown",
      "source": [
        "<font color='#8FCF26' size='+2'>**A15:**</font>"
      ],
      "metadata": {
        "id": "dytyP3X0Qotx"
      }
    },
    {
      "cell_type": "markdown",
      "source": [
        "<font color='#D61E85' size='+2'>**Q16:**</font> Try to perform feature scaling to our dataset."
      ],
      "metadata": {
        "id": "D9eDhVZ-RLXz"
      }
    },
    {
      "cell_type": "markdown",
      "source": [
        "<font color='#8FCF26' size='+2'>**A16:**</font>"
      ],
      "metadata": {
        "id": "pdYdkX4fRYGL"
      }
    },
    {
      "cell_type": "markdown",
      "source": [
        "###\tCustom Transformers\n",
        "\n",
        "\n",
        "*Transformers* definition:\n",
        "\n",
        "> Some estimators (such as a `SimpleImputer`) can also transform a dataset; these are called *transformers*. Once again, the API is simple: the transformation is performed by the `transform()` method with the dataset to transform as a parameter. It returns the transformed dataset. This transformation generally relies on the learned parameters, as is the case for a `SimpleImputer`. All transformers also have a convenience method called `fit_transform()`, which is equivalent to calling `fit()` and then `transform()` (but sometimes `fit_transform()` is optimized and runs much faster).\n",
        "\n",
        "Although Scikit-Learn provides many useful transformers, you will need to write your own for tasks such as custom transformations, cleanup operations, or combining specific attributes. For transformations that don’t require any training, you can just write a function that takes a NumPy array as input and outputs the transformed array. Scikit-learn provides us with `FunctionTransformer` class for these scenarios. Logarithm transformer is one of them which does not need any training.  \n",
        "\n",
        "<font color='#D61E85' size='+2'>**Q17:**</font> What is the use case of logarithm transformer? Try to implement it using `FunctionTransformer` and then use it on our dataset."
      ],
      "metadata": {
        "id": "Gjq7hIcIRwu3"
      }
    },
    {
      "cell_type": "markdown",
      "source": [
        "<font color='#8FCF26' size='+2'>**A17:**</font> Create some cell down below to write and run your code."
      ],
      "metadata": {
        "id": "mAsAk-PuRaoM"
      }
    },
    {
      "cell_type": "markdown",
      "source": [
        "`FunctionTransformer` is very handy, but what if you would like your transformer to be trainable, learning some parameters in the `fit()` method and using them later in the `transform()` method? For this, you need to write a custom class. Scikit-Learn relies on duck typing, so this class does not have to inherit from any particular base class. All it needs is three methods: `fit()` (which must return self), `transform()`, and `fit_transform()`.\n",
        "\n",
        "<font color='#D61E85' size='+2'>**Q18:**</font> Robust scaling is a technique that is less sensitive to outliers compared to standardization. This approach is useful when dealing with datasets that contain significant outliers. First, explain how it works and write down its formula. Then try to implement it from scratch by writing a custom class. In addition to `fit()` and `transform()` methods it should contains `inverse_transform()`: executing `scaler.inverse_transform(scaler.fit_transform(X))` should return an array very close to `X`. Then add support for feature names: set `feature_names_in_` in the `fit()` method if the input is a DataFrame. This attribute should be a NumPy array of column names. Lastly, implement the `get_feature_names_out()` method: it should have one optional `input_features=None` argument. If passed, the method should check that its length matches `n_features_in_`, and it should match `feature_names_in_` if it is defined; then `input_features` should be returned. If `input_features` is `None`, then the method should either return `feature_names_in_` if it is defined or `np.array([\"x0\", \"x1\", ...])` with length `n_features_in_` otherwise."
      ],
      "metadata": {
        "id": "hcZyFHs-RaoC"
      }
    },
    {
      "cell_type": "markdown",
      "source": [
        "<font color='#8FCF26' size='+2'>**A18:**</font> Create some cell down below to write and run your code."
      ],
      "metadata": {
        "id": "v14K1yEFgNTT"
      }
    },
    {
      "cell_type": "markdown",
      "source": [
        "### Transformation Pipelines\n",
        "\n",
        "As you can see, there are many data transformation steps that need to be executed in the right order. Scikit-learn provides the pipeline class to help with such sequence of transformations.\n",
        "\n",
        "<font color='#D61E85' size='+2'>**Q19:**</font> Write a pipeline for all the transformations you used so far and then call it. Compare your results with previous setup in which you perform the transformations one by one."
      ],
      "metadata": {
        "id": "OxOZrW1HgRtO"
      }
    },
    {
      "cell_type": "markdown",
      "source": [
        "<font color='#8FCF26' size='+2'>**A19:**</font> Create some cell down below to write and run your code."
      ],
      "metadata": {
        "id": "8FwVYbvLugg3"
      }
    },
    {
      "cell_type": "markdown",
      "source": [
        "## Select and Train a Model"
      ],
      "metadata": {
        "id": "pc52a0pdue4W"
      }
    },
    {
      "cell_type": "markdown",
      "source": [
        "### Train and Evaluate on the Training Set\n",
        "\n",
        "<font color='#D61E85' size='+2'>**Q20:**</font> After all it’s time to work with the model. Based on the answers you gave in the beginning of this exercise, you can choose which models you can use for the task. Try to use linear regression, decision tree regressor, random forest regressor, and support vector machine resgressor as your models and train these models on training split which you already created. Remember, using the first six attributes, we want to predict the `charges` column. Using the performance measures we talked about earlier try to compare your results. Don’t bother yourself with underlying dynamics of these models, we get to that in details in future."
      ],
      "metadata": {
        "id": "ViAv7HJ7y6Dh"
      }
    },
    {
      "cell_type": "markdown",
      "source": [
        "<font color='#8FCF26' size='+2'>**A20:**</font> Create some cell down below to write and run your code."
      ],
      "metadata": {
        "id": "JUwVY0hZzJff"
      }
    },
    {
      "cell_type": "markdown",
      "source": [
        "### Better Evaluation Using Cross-Validation\n",
        "\n",
        "As you probably know, you don’t want to touch the test set until you are ready to launch a model you are confident about, so you need to use part of the training set for training and part of it for model validation. If you have followed the instructions so far, you must have three sets named training, validation, and test. One way to evaluate the models is using the validation set. It helps you decide which model to use. But there is even a better way!\n",
        "In [this](https://www.youtube.com/watch?v=fSytzGwwBVw) short video you can learn about *k-fold cross validation* idea.\n",
        "\n",
        "<font color='#D61E85' size='+2'>**Q21:**</font> Try to decide which model is the best using the *k-fold cross validation*.\n",
        "\n"
      ],
      "metadata": {
        "id": "J8CEDZIo02IP"
      }
    },
    {
      "cell_type": "markdown",
      "source": [
        "<font color='#8FCF26' size='+2'>**A21:**</font> Create some cell down below to write and run your code."
      ],
      "metadata": {
        "id": "3BxIdY5y-bcL"
      }
    },
    {
      "cell_type": "markdown",
      "source": [
        "## Hyperparameter Tuning\n",
        "\n",
        "Let’s assume that you now have a shortlist of promising models. You now need to hyperparameter-tune them. The two main approaches to do this is grid search and randomized search.\n",
        "\n",
        "<font color='#D61E85' size='+2'>**Q22:**</font> Using these two methods try to improve your 2 best models from the previuos part and then decide which model to use. At the end you can check your model on the test set."
      ],
      "metadata": {
        "id": "Gs4btyS1-0nF"
      }
    },
    {
      "cell_type": "markdown",
      "source": [
        "<font color='#8FCF26' size='+2'>**A22:**</font> Create some cell down below to write and run your code."
      ],
      "metadata": {
        "id": "fYQFtXbzOyxr"
      }
    },
    {
      "cell_type": "markdown",
      "source": [
        "## Saving the Model\n",
        "\n",
        "It’s often a good idea to save every model you experiment with so\n",
        "that you can come back easily to any model you want. To save a model you can use the `joblib` library."
      ],
      "metadata": {
        "id": "KaEbyylORSLK"
      }
    }
  ]
}