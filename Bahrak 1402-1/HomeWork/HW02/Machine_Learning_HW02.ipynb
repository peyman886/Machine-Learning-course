{
  "nbformat": 4,
  "nbformat_minor": 0,
  "metadata": {
    "colab": {
      "provenance": [],
      "collapsed_sections": [
        "4-UsBJN1Dtyr",
        "6-wuCab5GlpV",
        "gng7sYeSHhjS",
        "4be9zg7WZrvc",
        "ZLvp3XxXRKIX",
        "csfvCFgjRKIc",
        "xU7T345hTbu_",
        "ISgkVpLZUhVH",
        "opfmpxQSUhVZ",
        "BVyDOaZEaNgy",
        "HkX5yKTRcF-g"
      ]
    },
    "kernelspec": {
      "name": "python3",
      "display_name": "Python 3"
    },
    "language_info": {
      "name": "python"
    }
  },
  "cells": [
    {
      "cell_type": "markdown",
      "source": [
        "## Homework 2\n",
        "Hi everyone this is your seceond homework.\n",
        "\n",
        "In this exercise, we intend to familiarize you more with classification, LDA, QDA algorithms.\n",
        "\n",
        "You are free to discuss the problems and ways to approach them with your classmates, but be sure to not cheat. **Cheating will not be tolerated**."
      ],
      "metadata": {
        "id": "YrU5iOPu9fQ9"
      }
    },
    {
      "cell_type": "markdown",
      "source": [
        "# An introduce classification\n",
        "\n",
        "**Classification** is a fundamental task in machine learning that involves categorizing data points into predefined classes or categories based on their features or characteristics. It plays a crucial role in various applications across industries, from image recognition and natural language processing to fraud detection and medical diagnosis. Here's a big picture overview of classification in machine learning:\n",
        "\n",
        "You have learned data collection and processing and feature extraction and selectin in chapter 2.\n",
        "\n",
        "There are various classification algorithms available, each with its strengths and weaknesses. The choice of algorithm depends on the nature of the data and the problem you are trying to solve. Common classification algorithms include:\n",
        "\n",
        "1. Logistic Regression\n",
        "2. Decision Trees\n",
        "3. Random Forest\n",
        "4. Support Vector Machines (SVM)\n",
        "5. k-Nearest Neighbors (k-NN)\n",
        "6. Naive Bayes\n",
        "7. Gradient Boosting (e.g., XGBoost, LightGBM)\n",
        "\n",
        "**Training the Model:**\n",
        "\n",
        "* Once an algorithm is selected, the model is trained on a portion of the dataset (training data). During training, the algorithm learns to recognize patterns and relationships between features and class labels.\n",
        "* The model's parameters are adjusted iteratively to minimize a specific loss function, making it better at making accurate predictions.\n",
        "\n",
        "**Model Evaluation:**\n",
        "\n",
        "* To assess the model's performance, it is tested on a separate dataset (validation or test data) that it has not seen during training. Common evaluation metrics for classification tasks include accuracy, precision, recall, F1-score, and area under the Receiver Operating Characteristic (ROC-AUC) curve.\n",
        "* Cross-validation techniques may also be used to ensure robustness and avoid overfitting."
      ],
      "metadata": {
        "id": "9MbjiYIh_WQd"
      }
    },
    {
      "cell_type": "markdown",
      "source": [
        "# Download Dataset\n"
      ],
      "metadata": {
        "id": "8kqssVYPJ445"
      }
    },
    {
      "cell_type": "code",
      "source": [
        "#download data from google drive\n",
        "!gdown --id 1sxdG42aaNm2nRCwb8w-8qstSw2q1yFNV\n",
        "\n",
        "#unzip files\n",
        "!unzip ML_Bahrak_HW2_Dataset"
      ],
      "metadata": {
        "id": "WCRXlox6KDYs",
        "outputId": "564ea639-566f-489f-b412-211f1b69fff4",
        "colab": {
          "base_uri": "https://localhost:8080/"
        }
      },
      "execution_count": 2,
      "outputs": [
        {
          "output_type": "stream",
          "name": "stdout",
          "text": [
            "/usr/local/lib/python3.10/dist-packages/gdown/cli.py:121: FutureWarning: Option `--id` was deprecated in version 4.3.1 and will be removed in 5.0. You don't need to pass it anymore to use a file ID.\n",
            "  warnings.warn(\n",
            "Downloading...\n",
            "From: https://drive.google.com/uc?id=1sxdG42aaNm2nRCwb8w-8qstSw2q1yFNV\n",
            "To: /content/ML_Bahrak_HW2_Dataset.zip\n",
            "100% 494k/494k [00:00<00:00, 110MB/s]\n"
          ]
        }
      ]
    },
    {
      "cell_type": "markdown",
      "source": [
        "#Binary Classification\n",
        "\n",
        "**Binary classification** is a fundamental concept in machine learning and statistics. It is a type of supervised learning task in which the goal is to categorize data points into one of two possible classes or categories. In binary classification, there are two mutually exclusive and exhaustive classes: the positive class (often labeled as \"1\" or \"positive\") and the negative class (labeled as \"0\" or \"negative\"). The objective is to assign each data point to one of these two classes based on its features or attributes.\n",
        "\n",
        "Depond on the application, choosing a decision threshold for classifying data points into the positive or negative class is one of the most important thing that you should do. This threshold can be adjusted to achieve a desired trade-off between precision and recall.\n",
        "\n",
        "\n",
        "##Introduction to Naive Bayes algorithm\n",
        "\n",
        "In machine learning, Naïve Bayes classification is a straightforward and powerful algorithm for the classification task. Naïve Bayes classification is based on applying Bayes’ theorem with strong independence assumption between the features. Naïve Bayes classification produces good results when we use it for textual data analysis such as Natural Language Processing.\n",
        "\n",
        "Naïve Bayes models are also known as simple Bayes or independent Bayes. All these names refer to the application of Bayes’ theorem in the classifier’s decision rule. Naïve Bayes classifier applies the Bayes’ theorem in practice. This classifier brings the power of Bayes’ theorem to machine learning.\n",
        "\n",
        "\n",
        "##<font color=\"red\">**Question 1**</font>\n",
        "\n",
        "* Explain Naive Bayes algorithm and the \"naive\" assumption in Naive Bayes"
      ],
      "metadata": {
        "id": "4-UsBJN1Dtyr"
      }
    },
    {
      "cell_type": "markdown",
      "source": [
        "###<font color=\"green\">**Answer:**</font>\n",
        "The Naive Bayes algorithm is a simple and widely used classification algorithm in machine learning and statistics. It's based on Bayes' theorem and is particularly useful for text classification, spam filtering, and various other applications, including medical diagnosis and sentiment analysis. The \"naive\" in Naive Bayes refers to a simplifying assumption that makes the algorithm computationally tractable.\n",
        "\n",
        "Here's a brief explanation of the Naive Bayes algorithm and the \"naive\" assumption:\n",
        "\n",
        "1. **Bayes' Theorem**:\n",
        "   Bayes' theorem is a fundamental concept in probability theory and statistics. It relates the conditional probability of an event A occurring given that an event B has occurred to the conditional probability of event B occurring given that event A has occurred. Mathematically, it can be expressed as:\n",
        "\n",
        "   \\begin{equation}P(A|B) = \\frac{P(B|A) \\cdot P(A)}{P(B)}\\end{equation}\n",
        "\n",
        "   In the context of classification, we want to determine the probability of a particular class $(C)$ given some input features $(X)$. Bayes' theorem can be used to express this as:\n",
        "\n",
        "   $$ P(C|X) = \\frac{P(X|C) \\cdot P(C)}{P(X)} $$\n",
        "\n",
        "2. The \"Naive\" Assumption:\n",
        "   The \"naive\" assumption in Naive Bayes is the simplifying assumption that makes the algorithm computationally tractable. It assumes that the features $(X)$ used for classification are conditionally independent, given the class label $(C)$. In other words, it assumes that the presence or absence of one feature does not affect the presence or absence of other features. This is a strong and often unrealistic assumption, which is why the algorithm is called \"naive.\"\n",
        "\n",
        "   Mathematically, this can be expressed as:\n",
        "\n",
        "   $$ P(X|C) = P(x_1|C) \\cdot P(x_2|C) \\cdot \\ldots \\cdot P(x_n|C)$$\n",
        "\n",
        "   This assumption greatly simplifies the calculations involved in estimating the probabilities. Instead of estimating the joint probabilities of all features together, it estimates the individual probabilities for each feature given the class and then combines them using Bayes' theorem.\n",
        "\n",
        "3. Classification:\n",
        "   Once you have estimated the probabilities $P(X|C)$ and $P(C)$ for each class, you can use Bayes' theorem to calculate the conditional probability $P(C|X)$ for each class. The class with the highest probability is the predicted class for the given input.\n",
        "\n",
        "   $$P(C|X) \\propto P(X|C) \\cdot P(C)$$\n",
        "\n",
        "   The \"naive\" assumption allows you to estimate $P(X|C)$ and $P(C)$ more easily, as you only need to estimate the probabilities for individual features and the prior probability of each class.\n",
        "\n"
      ],
      "metadata": {
        "id": "AyGJMV6kFIHB"
      }
    },
    {
      "cell_type": "markdown",
      "source": [
        "##<font color=\"red\">**Question 2**</font>\n",
        "Explain the trade-off between precision and recall in the context of binary classification. Provide an example scenario where optimizing one metric might come at the expense of the other. How can this trade-off be managed to make an informed decision when building a classification model?\n",
        "\n",
        "\n",
        "> <font color=\"orange\">**Note:**</font>\n",
        "Present a practical example scenario, such as a medical test for a rare disease. Explain how optimizing one metric (e.g., precision) may result in fewer false alarms (fewer healthy patients incorrectly identified as having the disease) but could miss some true cases of the disease (lower recall).\n"
      ],
      "metadata": {
        "id": "6-wuCab5GlpV"
      }
    },
    {
      "cell_type": "markdown",
      "source": [
        "###<font color=\"green\">**Answer:**</font>\n",
        "\n",
        "\n",
        "1. **Precision:** Precision measures the accuracy of positive predictions made by the model. It is the ratio of true positive predictions to the total positive predictions (true positives and false positives). A high precision indicates that the model makes few false positive errors, meaning that when it predicts a positive class, it is usually correct.\n",
        "\n",
        "   $$Precision = \\frac{True\\ Positives}{True\\ Positives + False\\ Positives}$$\n",
        "\n",
        "2. **Recall:** Recall, also known as sensitivity or true positive rate, measures the model's ability to identify all relevant instances of the positive class. It is the ratio of true positive predictions to the total actual positive instances (true positives and false negatives). High recall means that the model rarely misses positive instances and is good at capturing all actual positive cases.\n",
        "\n",
        "   $$Recall = \\frac{True\\ Positives}{True\\ Positives + False\\ Negatives}$$\n",
        "\n",
        "*trade-off between precision and recall:*\n",
        "\n",
        "- When you optimize for **high precision**, you aim to minimize false positives, which means that the model is cautious and only makes positive predictions when it's very confident. This is important in scenarios where false alarms are costly or when you want to be certain that the positive predictions are indeed correct. However, optimizing for high precision may lead to lower recall because the model is conservative and might miss some true positive cases.\n",
        "\n",
        "- When you optimize for **high recall**, you want to minimize false negatives, meaning the model aims to capture as many true positive cases as possible. This is crucial in situations where missing even a single positive instance can have severe consequences, such as in medical diagnoses of serious diseases. However, optimizing for high recall may lead to lower precision because the model may be more liberal in making positive predictions and could have some false alarms.\n",
        "\n",
        "*Example Scenario:*\n",
        "Let's consider a medical test for a rare disease. In this scenario, optimizing for precision and recall can have different implications:\n",
        "\n",
        "- **Optimizing for High Precision:** In this case, you want to minimize the number of false positives. This is important because falsely diagnosing healthy patients as having the disease can lead to unnecessary stress, additional medical tests, and potential side effects of treatment. So, you set a high threshold for the test result, meaning the test is only considered positive when it's very confident. This approach leads to high precision but may miss some true cases of the disease, resulting in lower recall. Some individuals with the disease might be undiagnosed.\n",
        "\n",
        "- **Optimizing for High Recall:** In this scenario, you want to ensure that you capture as many true cases of the disease as possible. Missing a positive diagnosis for a rare but serious disease could have severe consequences for the patients. To achieve this, you might lower the threshold for the test result, making the test more sensitive and flagging more cases as positive. This approach leads to high recall but may increase the number of false positives, causing anxiety and unnecessary tests for some healthy individuals.\n",
        "\n",
        "**Managing the Trade-off:**\n",
        "To make an informed decision when building a classification model, you should carefully consider the specific context and the consequences of false positives and false negatives. It often involves finding the right balance between precision and recall based on the domain's requirements and risks. Techniques like adjusting classification thresholds, using different models, or employing ensemble methods can help you manage the trade-off and achieve a balance that aligns with your objectives. Additionally, you may choose to use the F1 score, which is the harmonic mean of precision and recall, to evaluate the model's overall performance when balancing these two metrics is crucial."
      ],
      "metadata": {
        "id": "x84A8MdNHeh-"
      }
    },
    {
      "cell_type": "markdown",
      "source": [
        "##<font color=\"red\">**Question 3**</font>\n",
        "Now it's time to implement a naive bayse classifier and deal with a real dataset step by step. first you need to import some important libraries and <font color=\"blue\">**adult.csv**</font> dataset.\n"
      ],
      "metadata": {
        "id": "gng7sYeSHhjS"
      }
    },
    {
      "cell_type": "markdown",
      "source": [
        "> <font color=\"orange\">**Note:**</font>\n",
        "Don't Remember to analyse and explain each part"
      ],
      "metadata": {
        "id": "QV8nlHLKO5Wq"
      }
    },
    {
      "cell_type": "markdown",
      "source": [
        "#### **Import libraries**\n",
        "\n",
        "you can also import other libraries that you think is needed"
      ],
      "metadata": {
        "id": "1P8kBf1dKAD1"
      }
    },
    {
      "cell_type": "code",
      "source": [
        "import numpy as np # linear algebra\n",
        "import pandas as pd # data processing, CSV file I/O (e.g. pd.read_csv)\n",
        "import matplotlib.pyplot as plt # for data visualization purposes\n",
        "import seaborn as sns # for statistical data visualization"
      ],
      "metadata": {
        "id": "w4lJTntqHvC9"
      },
      "execution_count": 1,
      "outputs": []
    },
    {
      "cell_type": "markdown",
      "source": [
        "####**Import dataset**"
      ],
      "metadata": {
        "id": "z866_mZOKGV7"
      }
    },
    {
      "cell_type": "code",
      "source": [
        "file_path = 'adult.csv'\n",
        "\n",
        "colnames = ['age', 'workclass', 'fnlwgt', 'education', 'education_num',\n",
        "            'marital_status', 'occupation','relationship','race', 'sex',\n",
        "            'capital_gain', 'capital_loss', 'hours_per_week', 'native_country', 'income']\n",
        "# Read the CSV file into a pandas DataFrame\n",
        "df = pd.read_csv(file_path, names=colnames, header=None)"
      ],
      "metadata": {
        "id": "u3kAyGMMKcqX"
      },
      "execution_count": 7,
      "outputs": []
    },
    {
      "cell_type": "markdown",
      "source": [
        "####**Exploratory data analysis**\n",
        "\n",
        "- **Use EDA, preprocess, data cleaning and other methods if necessary**\n",
        "\n",
        "\n",
        "> <font color=\"orange\">**Note:**</font>\n",
        "If you use dataset.head(), you can see that the dataset does not have proper column names. The columns are merely labelled as 0,1,2.... and so on.\n",
        "\n",
        "Use the names of the following columns and replace them with the names of the current columns\n",
        "\n",
        "\n",
        "**columns names:**\n",
        "\n",
        "age, workclass, fnlwgt, education, education_num, marital_status, occupation, relationship,race, sex, capital_gain, capital_loss, hours_per_week, native_country, income"
      ],
      "metadata": {
        "id": "XT4JHOB6KfQO"
      }
    },
    {
      "cell_type": "code",
      "source": [
        "df"
      ],
      "metadata": {
        "id": "HNRGjMToKr1b",
        "colab": {
          "base_uri": "https://localhost:8080/",
          "height": 617
        },
        "outputId": "0268fe21-5065-47bf-f2b8-6974d7192620"
      },
      "execution_count": 8,
      "outputs": [
        {
          "output_type": "execute_result",
          "data": {
            "text/plain": [
              "       age          workclass  fnlwgt    education  education_num  \\\n",
              "0       39          State-gov   77516    Bachelors             13   \n",
              "1       50   Self-emp-not-inc   83311    Bachelors             13   \n",
              "2       38            Private  215646      HS-grad              9   \n",
              "3       53            Private  234721         11th              7   \n",
              "4       28            Private  338409    Bachelors             13   \n",
              "...    ...                ...     ...          ...            ...   \n",
              "32556   27            Private  257302   Assoc-acdm             12   \n",
              "32557   40            Private  154374      HS-grad              9   \n",
              "32558   58            Private  151910      HS-grad              9   \n",
              "32559   22            Private  201490      HS-grad              9   \n",
              "32560   52       Self-emp-inc  287927      HS-grad              9   \n",
              "\n",
              "            marital_status          occupation    relationship    race  \\\n",
              "0            Never-married        Adm-clerical   Not-in-family   White   \n",
              "1       Married-civ-spouse     Exec-managerial         Husband   White   \n",
              "2                 Divorced   Handlers-cleaners   Not-in-family   White   \n",
              "3       Married-civ-spouse   Handlers-cleaners         Husband   Black   \n",
              "4       Married-civ-spouse      Prof-specialty            Wife   Black   \n",
              "...                    ...                 ...             ...     ...   \n",
              "32556   Married-civ-spouse        Tech-support            Wife   White   \n",
              "32557   Married-civ-spouse   Machine-op-inspct         Husband   White   \n",
              "32558              Widowed        Adm-clerical       Unmarried   White   \n",
              "32559        Never-married        Adm-clerical       Own-child   White   \n",
              "32560   Married-civ-spouse     Exec-managerial            Wife   White   \n",
              "\n",
              "           sex  capital_gain  capital_loss  hours_per_week  native_country  \\\n",
              "0         Male          2174             0              40   United-States   \n",
              "1         Male             0             0              13   United-States   \n",
              "2         Male             0             0              40   United-States   \n",
              "3         Male             0             0              40   United-States   \n",
              "4       Female             0             0              40            Cuba   \n",
              "...        ...           ...           ...             ...             ...   \n",
              "32556   Female             0             0              38   United-States   \n",
              "32557     Male             0             0              40   United-States   \n",
              "32558   Female             0             0              40   United-States   \n",
              "32559     Male             0             0              20   United-States   \n",
              "32560   Female         15024             0              40   United-States   \n",
              "\n",
              "       income  \n",
              "0       <=50K  \n",
              "1       <=50K  \n",
              "2       <=50K  \n",
              "3       <=50K  \n",
              "4       <=50K  \n",
              "...       ...  \n",
              "32556   <=50K  \n",
              "32557    >50K  \n",
              "32558   <=50K  \n",
              "32559   <=50K  \n",
              "32560    >50K  \n",
              "\n",
              "[32561 rows x 15 columns]"
            ],
            "text/html": [
              "\n",
              "  <div id=\"df-34b174c6-f211-4080-9c32-f3d0a2877d13\" class=\"colab-df-container\">\n",
              "    <div>\n",
              "<style scoped>\n",
              "    .dataframe tbody tr th:only-of-type {\n",
              "        vertical-align: middle;\n",
              "    }\n",
              "\n",
              "    .dataframe tbody tr th {\n",
              "        vertical-align: top;\n",
              "    }\n",
              "\n",
              "    .dataframe thead th {\n",
              "        text-align: right;\n",
              "    }\n",
              "</style>\n",
              "<table border=\"1\" class=\"dataframe\">\n",
              "  <thead>\n",
              "    <tr style=\"text-align: right;\">\n",
              "      <th></th>\n",
              "      <th>age</th>\n",
              "      <th>workclass</th>\n",
              "      <th>fnlwgt</th>\n",
              "      <th>education</th>\n",
              "      <th>education_num</th>\n",
              "      <th>marital_status</th>\n",
              "      <th>occupation</th>\n",
              "      <th>relationship</th>\n",
              "      <th>race</th>\n",
              "      <th>sex</th>\n",
              "      <th>capital_gain</th>\n",
              "      <th>capital_loss</th>\n",
              "      <th>hours_per_week</th>\n",
              "      <th>native_country</th>\n",
              "      <th>income</th>\n",
              "    </tr>\n",
              "  </thead>\n",
              "  <tbody>\n",
              "    <tr>\n",
              "      <th>0</th>\n",
              "      <td>39</td>\n",
              "      <td>State-gov</td>\n",
              "      <td>77516</td>\n",
              "      <td>Bachelors</td>\n",
              "      <td>13</td>\n",
              "      <td>Never-married</td>\n",
              "      <td>Adm-clerical</td>\n",
              "      <td>Not-in-family</td>\n",
              "      <td>White</td>\n",
              "      <td>Male</td>\n",
              "      <td>2174</td>\n",
              "      <td>0</td>\n",
              "      <td>40</td>\n",
              "      <td>United-States</td>\n",
              "      <td>&lt;=50K</td>\n",
              "    </tr>\n",
              "    <tr>\n",
              "      <th>1</th>\n",
              "      <td>50</td>\n",
              "      <td>Self-emp-not-inc</td>\n",
              "      <td>83311</td>\n",
              "      <td>Bachelors</td>\n",
              "      <td>13</td>\n",
              "      <td>Married-civ-spouse</td>\n",
              "      <td>Exec-managerial</td>\n",
              "      <td>Husband</td>\n",
              "      <td>White</td>\n",
              "      <td>Male</td>\n",
              "      <td>0</td>\n",
              "      <td>0</td>\n",
              "      <td>13</td>\n",
              "      <td>United-States</td>\n",
              "      <td>&lt;=50K</td>\n",
              "    </tr>\n",
              "    <tr>\n",
              "      <th>2</th>\n",
              "      <td>38</td>\n",
              "      <td>Private</td>\n",
              "      <td>215646</td>\n",
              "      <td>HS-grad</td>\n",
              "      <td>9</td>\n",
              "      <td>Divorced</td>\n",
              "      <td>Handlers-cleaners</td>\n",
              "      <td>Not-in-family</td>\n",
              "      <td>White</td>\n",
              "      <td>Male</td>\n",
              "      <td>0</td>\n",
              "      <td>0</td>\n",
              "      <td>40</td>\n",
              "      <td>United-States</td>\n",
              "      <td>&lt;=50K</td>\n",
              "    </tr>\n",
              "    <tr>\n",
              "      <th>3</th>\n",
              "      <td>53</td>\n",
              "      <td>Private</td>\n",
              "      <td>234721</td>\n",
              "      <td>11th</td>\n",
              "      <td>7</td>\n",
              "      <td>Married-civ-spouse</td>\n",
              "      <td>Handlers-cleaners</td>\n",
              "      <td>Husband</td>\n",
              "      <td>Black</td>\n",
              "      <td>Male</td>\n",
              "      <td>0</td>\n",
              "      <td>0</td>\n",
              "      <td>40</td>\n",
              "      <td>United-States</td>\n",
              "      <td>&lt;=50K</td>\n",
              "    </tr>\n",
              "    <tr>\n",
              "      <th>4</th>\n",
              "      <td>28</td>\n",
              "      <td>Private</td>\n",
              "      <td>338409</td>\n",
              "      <td>Bachelors</td>\n",
              "      <td>13</td>\n",
              "      <td>Married-civ-spouse</td>\n",
              "      <td>Prof-specialty</td>\n",
              "      <td>Wife</td>\n",
              "      <td>Black</td>\n",
              "      <td>Female</td>\n",
              "      <td>0</td>\n",
              "      <td>0</td>\n",
              "      <td>40</td>\n",
              "      <td>Cuba</td>\n",
              "      <td>&lt;=50K</td>\n",
              "    </tr>\n",
              "    <tr>\n",
              "      <th>...</th>\n",
              "      <td>...</td>\n",
              "      <td>...</td>\n",
              "      <td>...</td>\n",
              "      <td>...</td>\n",
              "      <td>...</td>\n",
              "      <td>...</td>\n",
              "      <td>...</td>\n",
              "      <td>...</td>\n",
              "      <td>...</td>\n",
              "      <td>...</td>\n",
              "      <td>...</td>\n",
              "      <td>...</td>\n",
              "      <td>...</td>\n",
              "      <td>...</td>\n",
              "      <td>...</td>\n",
              "    </tr>\n",
              "    <tr>\n",
              "      <th>32556</th>\n",
              "      <td>27</td>\n",
              "      <td>Private</td>\n",
              "      <td>257302</td>\n",
              "      <td>Assoc-acdm</td>\n",
              "      <td>12</td>\n",
              "      <td>Married-civ-spouse</td>\n",
              "      <td>Tech-support</td>\n",
              "      <td>Wife</td>\n",
              "      <td>White</td>\n",
              "      <td>Female</td>\n",
              "      <td>0</td>\n",
              "      <td>0</td>\n",
              "      <td>38</td>\n",
              "      <td>United-States</td>\n",
              "      <td>&lt;=50K</td>\n",
              "    </tr>\n",
              "    <tr>\n",
              "      <th>32557</th>\n",
              "      <td>40</td>\n",
              "      <td>Private</td>\n",
              "      <td>154374</td>\n",
              "      <td>HS-grad</td>\n",
              "      <td>9</td>\n",
              "      <td>Married-civ-spouse</td>\n",
              "      <td>Machine-op-inspct</td>\n",
              "      <td>Husband</td>\n",
              "      <td>White</td>\n",
              "      <td>Male</td>\n",
              "      <td>0</td>\n",
              "      <td>0</td>\n",
              "      <td>40</td>\n",
              "      <td>United-States</td>\n",
              "      <td>&gt;50K</td>\n",
              "    </tr>\n",
              "    <tr>\n",
              "      <th>32558</th>\n",
              "      <td>58</td>\n",
              "      <td>Private</td>\n",
              "      <td>151910</td>\n",
              "      <td>HS-grad</td>\n",
              "      <td>9</td>\n",
              "      <td>Widowed</td>\n",
              "      <td>Adm-clerical</td>\n",
              "      <td>Unmarried</td>\n",
              "      <td>White</td>\n",
              "      <td>Female</td>\n",
              "      <td>0</td>\n",
              "      <td>0</td>\n",
              "      <td>40</td>\n",
              "      <td>United-States</td>\n",
              "      <td>&lt;=50K</td>\n",
              "    </tr>\n",
              "    <tr>\n",
              "      <th>32559</th>\n",
              "      <td>22</td>\n",
              "      <td>Private</td>\n",
              "      <td>201490</td>\n",
              "      <td>HS-grad</td>\n",
              "      <td>9</td>\n",
              "      <td>Never-married</td>\n",
              "      <td>Adm-clerical</td>\n",
              "      <td>Own-child</td>\n",
              "      <td>White</td>\n",
              "      <td>Male</td>\n",
              "      <td>0</td>\n",
              "      <td>0</td>\n",
              "      <td>20</td>\n",
              "      <td>United-States</td>\n",
              "      <td>&lt;=50K</td>\n",
              "    </tr>\n",
              "    <tr>\n",
              "      <th>32560</th>\n",
              "      <td>52</td>\n",
              "      <td>Self-emp-inc</td>\n",
              "      <td>287927</td>\n",
              "      <td>HS-grad</td>\n",
              "      <td>9</td>\n",
              "      <td>Married-civ-spouse</td>\n",
              "      <td>Exec-managerial</td>\n",
              "      <td>Wife</td>\n",
              "      <td>White</td>\n",
              "      <td>Female</td>\n",
              "      <td>15024</td>\n",
              "      <td>0</td>\n",
              "      <td>40</td>\n",
              "      <td>United-States</td>\n",
              "      <td>&gt;50K</td>\n",
              "    </tr>\n",
              "  </tbody>\n",
              "</table>\n",
              "<p>32561 rows × 15 columns</p>\n",
              "</div>\n",
              "    <div class=\"colab-df-buttons\">\n",
              "\n",
              "  <div class=\"colab-df-container\">\n",
              "    <button class=\"colab-df-convert\" onclick=\"convertToInteractive('df-34b174c6-f211-4080-9c32-f3d0a2877d13')\"\n",
              "            title=\"Convert this dataframe to an interactive table.\"\n",
              "            style=\"display:none;\">\n",
              "\n",
              "  <svg xmlns=\"http://www.w3.org/2000/svg\" height=\"24px\" viewBox=\"0 -960 960 960\">\n",
              "    <path d=\"M120-120v-720h720v720H120Zm60-500h600v-160H180v160Zm220 220h160v-160H400v160Zm0 220h160v-160H400v160ZM180-400h160v-160H180v160Zm440 0h160v-160H620v160ZM180-180h160v-160H180v160Zm440 0h160v-160H620v160Z\"/>\n",
              "  </svg>\n",
              "    </button>\n",
              "\n",
              "  <style>\n",
              "    .colab-df-container {\n",
              "      display:flex;\n",
              "      gap: 12px;\n",
              "    }\n",
              "\n",
              "    .colab-df-convert {\n",
              "      background-color: #E8F0FE;\n",
              "      border: none;\n",
              "      border-radius: 50%;\n",
              "      cursor: pointer;\n",
              "      display: none;\n",
              "      fill: #1967D2;\n",
              "      height: 32px;\n",
              "      padding: 0 0 0 0;\n",
              "      width: 32px;\n",
              "    }\n",
              "\n",
              "    .colab-df-convert:hover {\n",
              "      background-color: #E2EBFA;\n",
              "      box-shadow: 0px 1px 2px rgba(60, 64, 67, 0.3), 0px 1px 3px 1px rgba(60, 64, 67, 0.15);\n",
              "      fill: #174EA6;\n",
              "    }\n",
              "\n",
              "    .colab-df-buttons div {\n",
              "      margin-bottom: 4px;\n",
              "    }\n",
              "\n",
              "    [theme=dark] .colab-df-convert {\n",
              "      background-color: #3B4455;\n",
              "      fill: #D2E3FC;\n",
              "    }\n",
              "\n",
              "    [theme=dark] .colab-df-convert:hover {\n",
              "      background-color: #434B5C;\n",
              "      box-shadow: 0px 1px 3px 1px rgba(0, 0, 0, 0.15);\n",
              "      filter: drop-shadow(0px 1px 2px rgba(0, 0, 0, 0.3));\n",
              "      fill: #FFFFFF;\n",
              "    }\n",
              "  </style>\n",
              "\n",
              "    <script>\n",
              "      const buttonEl =\n",
              "        document.querySelector('#df-34b174c6-f211-4080-9c32-f3d0a2877d13 button.colab-df-convert');\n",
              "      buttonEl.style.display =\n",
              "        google.colab.kernel.accessAllowed ? 'block' : 'none';\n",
              "\n",
              "      async function convertToInteractive(key) {\n",
              "        const element = document.querySelector('#df-34b174c6-f211-4080-9c32-f3d0a2877d13');\n",
              "        const dataTable =\n",
              "          await google.colab.kernel.invokeFunction('convertToInteractive',\n",
              "                                                    [key], {});\n",
              "        if (!dataTable) return;\n",
              "\n",
              "        const docLinkHtml = 'Like what you see? Visit the ' +\n",
              "          '<a target=\"_blank\" href=https://colab.research.google.com/notebooks/data_table.ipynb>data table notebook</a>'\n",
              "          + ' to learn more about interactive tables.';\n",
              "        element.innerHTML = '';\n",
              "        dataTable['output_type'] = 'display_data';\n",
              "        await google.colab.output.renderOutput(dataTable, element);\n",
              "        const docLink = document.createElement('div');\n",
              "        docLink.innerHTML = docLinkHtml;\n",
              "        element.appendChild(docLink);\n",
              "      }\n",
              "    </script>\n",
              "  </div>\n",
              "\n",
              "\n",
              "<div id=\"df-e86a9eae-104e-4afb-8e8b-6a0ebf165705\">\n",
              "  <button class=\"colab-df-quickchart\" onclick=\"quickchart('df-e86a9eae-104e-4afb-8e8b-6a0ebf165705')\"\n",
              "            title=\"Suggest charts.\"\n",
              "            style=\"display:none;\">\n",
              "\n",
              "<svg xmlns=\"http://www.w3.org/2000/svg\" height=\"24px\"viewBox=\"0 0 24 24\"\n",
              "     width=\"24px\">\n",
              "    <g>\n",
              "        <path d=\"M19 3H5c-1.1 0-2 .9-2 2v14c0 1.1.9 2 2 2h14c1.1 0 2-.9 2-2V5c0-1.1-.9-2-2-2zM9 17H7v-7h2v7zm4 0h-2V7h2v10zm4 0h-2v-4h2v4z\"/>\n",
              "    </g>\n",
              "</svg>\n",
              "  </button>\n",
              "\n",
              "<style>\n",
              "  .colab-df-quickchart {\n",
              "      --bg-color: #E8F0FE;\n",
              "      --fill-color: #1967D2;\n",
              "      --hover-bg-color: #E2EBFA;\n",
              "      --hover-fill-color: #174EA6;\n",
              "      --disabled-fill-color: #AAA;\n",
              "      --disabled-bg-color: #DDD;\n",
              "  }\n",
              "\n",
              "  [theme=dark] .colab-df-quickchart {\n",
              "      --bg-color: #3B4455;\n",
              "      --fill-color: #D2E3FC;\n",
              "      --hover-bg-color: #434B5C;\n",
              "      --hover-fill-color: #FFFFFF;\n",
              "      --disabled-bg-color: #3B4455;\n",
              "      --disabled-fill-color: #666;\n",
              "  }\n",
              "\n",
              "  .colab-df-quickchart {\n",
              "    background-color: var(--bg-color);\n",
              "    border: none;\n",
              "    border-radius: 50%;\n",
              "    cursor: pointer;\n",
              "    display: none;\n",
              "    fill: var(--fill-color);\n",
              "    height: 32px;\n",
              "    padding: 0;\n",
              "    width: 32px;\n",
              "  }\n",
              "\n",
              "  .colab-df-quickchart:hover {\n",
              "    background-color: var(--hover-bg-color);\n",
              "    box-shadow: 0 1px 2px rgba(60, 64, 67, 0.3), 0 1px 3px 1px rgba(60, 64, 67, 0.15);\n",
              "    fill: var(--button-hover-fill-color);\n",
              "  }\n",
              "\n",
              "  .colab-df-quickchart-complete:disabled,\n",
              "  .colab-df-quickchart-complete:disabled:hover {\n",
              "    background-color: var(--disabled-bg-color);\n",
              "    fill: var(--disabled-fill-color);\n",
              "    box-shadow: none;\n",
              "  }\n",
              "\n",
              "  .colab-df-spinner {\n",
              "    border: 2px solid var(--fill-color);\n",
              "    border-color: transparent;\n",
              "    border-bottom-color: var(--fill-color);\n",
              "    animation:\n",
              "      spin 1s steps(1) infinite;\n",
              "  }\n",
              "\n",
              "  @keyframes spin {\n",
              "    0% {\n",
              "      border-color: transparent;\n",
              "      border-bottom-color: var(--fill-color);\n",
              "      border-left-color: var(--fill-color);\n",
              "    }\n",
              "    20% {\n",
              "      border-color: transparent;\n",
              "      border-left-color: var(--fill-color);\n",
              "      border-top-color: var(--fill-color);\n",
              "    }\n",
              "    30% {\n",
              "      border-color: transparent;\n",
              "      border-left-color: var(--fill-color);\n",
              "      border-top-color: var(--fill-color);\n",
              "      border-right-color: var(--fill-color);\n",
              "    }\n",
              "    40% {\n",
              "      border-color: transparent;\n",
              "      border-right-color: var(--fill-color);\n",
              "      border-top-color: var(--fill-color);\n",
              "    }\n",
              "    60% {\n",
              "      border-color: transparent;\n",
              "      border-right-color: var(--fill-color);\n",
              "    }\n",
              "    80% {\n",
              "      border-color: transparent;\n",
              "      border-right-color: var(--fill-color);\n",
              "      border-bottom-color: var(--fill-color);\n",
              "    }\n",
              "    90% {\n",
              "      border-color: transparent;\n",
              "      border-bottom-color: var(--fill-color);\n",
              "    }\n",
              "  }\n",
              "</style>\n",
              "\n",
              "  <script>\n",
              "    async function quickchart(key) {\n",
              "      const quickchartButtonEl =\n",
              "        document.querySelector('#' + key + ' button');\n",
              "      quickchartButtonEl.disabled = true;  // To prevent multiple clicks.\n",
              "      quickchartButtonEl.classList.add('colab-df-spinner');\n",
              "      try {\n",
              "        const charts = await google.colab.kernel.invokeFunction(\n",
              "            'suggestCharts', [key], {});\n",
              "      } catch (error) {\n",
              "        console.error('Error during call to suggestCharts:', error);\n",
              "      }\n",
              "      quickchartButtonEl.classList.remove('colab-df-spinner');\n",
              "      quickchartButtonEl.classList.add('colab-df-quickchart-complete');\n",
              "    }\n",
              "    (() => {\n",
              "      let quickchartButtonEl =\n",
              "        document.querySelector('#df-e86a9eae-104e-4afb-8e8b-6a0ebf165705 button');\n",
              "      quickchartButtonEl.style.display =\n",
              "        google.colab.kernel.accessAllowed ? 'block' : 'none';\n",
              "    })();\n",
              "  </script>\n",
              "</div>\n",
              "    </div>\n",
              "  </div>\n"
            ]
          },
          "metadata": {},
          "execution_count": 8
        }
      ]
    },
    {
      "cell_type": "code",
      "source": [
        "# Display basic information about the dataset\n",
        "print(df.info())"
      ],
      "metadata": {
        "id": "Zn1BH1y9OJAx",
        "outputId": "992d4730-7ab8-43cc-83ab-f87d3f29f4e1",
        "colab": {
          "base_uri": "https://localhost:8080/"
        }
      },
      "execution_count": 9,
      "outputs": [
        {
          "output_type": "stream",
          "name": "stdout",
          "text": [
            "<class 'pandas.core.frame.DataFrame'>\n",
            "RangeIndex: 32561 entries, 0 to 32560\n",
            "Data columns (total 15 columns):\n",
            " #   Column          Non-Null Count  Dtype \n",
            "---  ------          --------------  ----- \n",
            " 0   age             32561 non-null  int64 \n",
            " 1   workclass       32561 non-null  object\n",
            " 2   fnlwgt          32561 non-null  int64 \n",
            " 3   education       32561 non-null  object\n",
            " 4   education_num   32561 non-null  int64 \n",
            " 5   marital_status  32561 non-null  object\n",
            " 6   occupation      32561 non-null  object\n",
            " 7   relationship    32561 non-null  object\n",
            " 8   race            32561 non-null  object\n",
            " 9   sex             32561 non-null  object\n",
            " 10  capital_gain    32561 non-null  int64 \n",
            " 11  capital_loss    32561 non-null  int64 \n",
            " 12  hours_per_week  32561 non-null  int64 \n",
            " 13  native_country  32561 non-null  object\n",
            " 14  income          32561 non-null  object\n",
            "dtypes: int64(6), object(9)\n",
            "memory usage: 3.7+ MB\n",
            "None\n"
          ]
        }
      ]
    },
    {
      "cell_type": "code",
      "source": [
        "# Summary statistics\n",
        "print(df.describe())"
      ],
      "metadata": {
        "id": "Tz-v3-_qOLl4",
        "outputId": "9ac85ea3-34ad-448b-ffc6-4e11dd311254",
        "colab": {
          "base_uri": "https://localhost:8080/"
        }
      },
      "execution_count": 10,
      "outputs": [
        {
          "output_type": "stream",
          "name": "stdout",
          "text": [
            "                age        fnlwgt  education_num  capital_gain  capital_loss  \\\n",
            "count  32561.000000  3.256100e+04   32561.000000  32561.000000  32561.000000   \n",
            "mean      38.581647  1.897784e+05      10.080679   1077.648844     87.303830   \n",
            "std       13.640433  1.055500e+05       2.572720   7385.292085    402.960219   \n",
            "min       17.000000  1.228500e+04       1.000000      0.000000      0.000000   \n",
            "25%       28.000000  1.178270e+05       9.000000      0.000000      0.000000   \n",
            "50%       37.000000  1.783560e+05      10.000000      0.000000      0.000000   \n",
            "75%       48.000000  2.370510e+05      12.000000      0.000000      0.000000   \n",
            "max       90.000000  1.484705e+06      16.000000  99999.000000   4356.000000   \n",
            "\n",
            "       hours_per_week  \n",
            "count    32561.000000  \n",
            "mean        40.437456  \n",
            "std         12.347429  \n",
            "min          1.000000  \n",
            "25%         40.000000  \n",
            "50%         40.000000  \n",
            "75%         45.000000  \n",
            "max         99.000000  \n"
          ]
        }
      ]
    },
    {
      "cell_type": "code",
      "source": [
        "# Check for missing values\n",
        "print(df.isnull().sum())"
      ],
      "metadata": {
        "id": "haBW0ttwOU9D",
        "outputId": "ae4ecfc4-d9e8-4bb6-9d3b-e53507eb9bc0",
        "colab": {
          "base_uri": "https://localhost:8080/"
        }
      },
      "execution_count": 11,
      "outputs": [
        {
          "output_type": "stream",
          "name": "stdout",
          "text": [
            "age               0\n",
            "workclass         0\n",
            "fnlwgt            0\n",
            "education         0\n",
            "education_num     0\n",
            "marital_status    0\n",
            "occupation        0\n",
            "relationship      0\n",
            "race              0\n",
            "sex               0\n",
            "capital_gain      0\n",
            "capital_loss      0\n",
            "hours_per_week    0\n",
            "native_country    0\n",
            "income            0\n",
            "dtype: int64\n"
          ]
        }
      ]
    },
    {
      "cell_type": "code",
      "source": [
        "# Loop through all columns and display value counts for categorical columns\n",
        "for column in df.columns:\n",
        "    if df[column].dtype == 'object':\n",
        "        print(f\"Column: {column}\")\n",
        "        print(df[column].value_counts())\n",
        "        print(\"\\n\")"
      ],
      "metadata": {
        "id": "nA06cIT3Oacu",
        "outputId": "fe82b07c-4478-4758-e88d-bf48e4b72064",
        "colab": {
          "base_uri": "https://localhost:8080/"
        }
      },
      "execution_count": 13,
      "outputs": [
        {
          "output_type": "stream",
          "name": "stdout",
          "text": [
            "Column: workclass\n",
            " Private             22696\n",
            " Self-emp-not-inc     2541\n",
            " Local-gov            2093\n",
            " ?                    1836\n",
            " State-gov            1298\n",
            " Self-emp-inc         1116\n",
            " Federal-gov           960\n",
            " Without-pay            14\n",
            " Never-worked            7\n",
            "Name: workclass, dtype: int64\n",
            "\n",
            "\n",
            "Column: education\n",
            " HS-grad         10501\n",
            " Some-college     7291\n",
            " Bachelors        5355\n",
            " Masters          1723\n",
            " Assoc-voc        1382\n",
            " 11th             1175\n",
            " Assoc-acdm       1067\n",
            " 10th              933\n",
            " 7th-8th           646\n",
            " Prof-school       576\n",
            " 9th               514\n",
            " 12th              433\n",
            " Doctorate         413\n",
            " 5th-6th           333\n",
            " 1st-4th           168\n",
            " Preschool          51\n",
            "Name: education, dtype: int64\n",
            "\n",
            "\n",
            "Column: marital_status\n",
            " Married-civ-spouse       14976\n",
            " Never-married            10683\n",
            " Divorced                  4443\n",
            " Separated                 1025\n",
            " Widowed                    993\n",
            " Married-spouse-absent      418\n",
            " Married-AF-spouse           23\n",
            "Name: marital_status, dtype: int64\n",
            "\n",
            "\n",
            "Column: occupation\n",
            " Prof-specialty       4140\n",
            " Craft-repair         4099\n",
            " Exec-managerial      4066\n",
            " Adm-clerical         3770\n",
            " Sales                3650\n",
            " Other-service        3295\n",
            " Machine-op-inspct    2002\n",
            " ?                    1843\n",
            " Transport-moving     1597\n",
            " Handlers-cleaners    1370\n",
            " Farming-fishing       994\n",
            " Tech-support          928\n",
            " Protective-serv       649\n",
            " Priv-house-serv       149\n",
            " Armed-Forces            9\n",
            "Name: occupation, dtype: int64\n",
            "\n",
            "\n",
            "Column: relationship\n",
            " Husband           13193\n",
            " Not-in-family      8305\n",
            " Own-child          5068\n",
            " Unmarried          3446\n",
            " Wife               1568\n",
            " Other-relative      981\n",
            "Name: relationship, dtype: int64\n",
            "\n",
            "\n",
            "Column: race\n",
            " White                 27816\n",
            " Black                  3124\n",
            " Asian-Pac-Islander     1039\n",
            " Amer-Indian-Eskimo      311\n",
            " Other                   271\n",
            "Name: race, dtype: int64\n",
            "\n",
            "\n",
            "Column: sex\n",
            " Male      21790\n",
            " Female    10771\n",
            "Name: sex, dtype: int64\n",
            "\n",
            "\n",
            "Column: native_country\n",
            " United-States                 29170\n",
            " Mexico                          643\n",
            " ?                               583\n",
            " Philippines                     198\n",
            " Germany                         137\n",
            " Canada                          121\n",
            " Puerto-Rico                     114\n",
            " El-Salvador                     106\n",
            " India                           100\n",
            " Cuba                             95\n",
            " England                          90\n",
            " Jamaica                          81\n",
            " South                            80\n",
            " China                            75\n",
            " Italy                            73\n",
            " Dominican-Republic               70\n",
            " Vietnam                          67\n",
            " Guatemala                        64\n",
            " Japan                            62\n",
            " Poland                           60\n",
            " Columbia                         59\n",
            " Taiwan                           51\n",
            " Haiti                            44\n",
            " Iran                             43\n",
            " Portugal                         37\n",
            " Nicaragua                        34\n",
            " Peru                             31\n",
            " France                           29\n",
            " Greece                           29\n",
            " Ecuador                          28\n",
            " Ireland                          24\n",
            " Hong                             20\n",
            " Cambodia                         19\n",
            " Trinadad&Tobago                  19\n",
            " Laos                             18\n",
            " Thailand                         18\n",
            " Yugoslavia                       16\n",
            " Outlying-US(Guam-USVI-etc)       14\n",
            " Honduras                         13\n",
            " Hungary                          13\n",
            " Scotland                         12\n",
            " Holand-Netherlands                1\n",
            "Name: native_country, dtype: int64\n",
            "\n",
            "\n",
            "Column: income\n",
            " <=50K    24720\n",
            " >50K      7841\n",
            "Name: income, dtype: int64\n",
            "\n",
            "\n"
          ]
        }
      ]
    },
    {
      "cell_type": "markdown",
      "source": [
        "####**Declare feature vector and target variable**\n",
        "**target value is income**"
      ],
      "metadata": {
        "id": "I-QikjwiMLwq"
      }
    },
    {
      "cell_type": "code",
      "source": [
        "# Your code"
      ],
      "metadata": {
        "id": "EtL6DNLpMR0S"
      },
      "execution_count": null,
      "outputs": []
    },
    {
      "cell_type": "markdown",
      "source": [
        "####**Split data into separate training and test set**"
      ],
      "metadata": {
        "id": "Zs3lxodiMXD-"
      }
    },
    {
      "cell_type": "code",
      "source": [
        "# Your Code"
      ],
      "metadata": {
        "id": "vds34VM7McdS"
      },
      "execution_count": null,
      "outputs": []
    },
    {
      "cell_type": "markdown",
      "source": [
        "####**Use feature engineering and feature scaling like StandardScale or RobustScale**"
      ],
      "metadata": {
        "id": "Hc7P2IhMMeDy"
      }
    },
    {
      "cell_type": "code",
      "source": [
        "# Your Code:"
      ],
      "metadata": {
        "id": "skqvNCxcMiol"
      },
      "execution_count": null,
      "outputs": []
    },
    {
      "cell_type": "markdown",
      "source": [
        "####**Model training**"
      ],
      "metadata": {
        "id": "YTxcwnwKMkIu"
      }
    },
    {
      "cell_type": "code",
      "source": [
        "# Your Code"
      ],
      "metadata": {
        "id": "GY8QWX5gOXzo"
      },
      "execution_count": null,
      "outputs": []
    },
    {
      "cell_type": "markdown",
      "source": [
        "####**Check accuracy score and calulate f1-score, precision, recall**"
      ],
      "metadata": {
        "id": "Odp-BdsAOg_i"
      }
    },
    {
      "cell_type": "code",
      "source": [
        "# Your Code"
      ],
      "metadata": {
        "id": "YwebwO7OOi4U"
      },
      "execution_count": null,
      "outputs": []
    },
    {
      "cell_type": "markdown",
      "source": [
        "####**Calculate class possibilites**"
      ],
      "metadata": {
        "id": "sagawyxsOkk7"
      }
    },
    {
      "cell_type": "code",
      "source": [
        "# Your Code"
      ],
      "metadata": {
        "id": "Jk5f6yRWOrMo"
      },
      "execution_count": null,
      "outputs": []
    },
    {
      "cell_type": "markdown",
      "source": [
        "####**Use ROC-AUC and also k-Fold Cross Validation**"
      ],
      "metadata": {
        "id": "fjDamiPBOtEb"
      }
    },
    {
      "cell_type": "code",
      "source": [
        "# Your Code"
      ],
      "metadata": {
        "id": "ep_R3QQpOv7-"
      },
      "execution_count": null,
      "outputs": []
    },
    {
      "cell_type": "markdown",
      "source": [
        "#### **Results and conclusion**\n",
        "Briefly explain what you did and what you got"
      ],
      "metadata": {
        "id": "jvVg3uZEOxOL"
      }
    },
    {
      "cell_type": "markdown",
      "source": [
        "#####<font color=\"green\">**Answer:**</font>"
      ],
      "metadata": {
        "id": "SWepqYaMPzdH"
      }
    },
    {
      "cell_type": "markdown",
      "source": [
        "#KNN"
      ],
      "metadata": {
        "id": "4be9zg7WZrvc"
      }
    },
    {
      "cell_type": "markdown",
      "source": [
        "##<font color=\"red\">**Question 4**</font>\n"
      ],
      "metadata": {
        "id": "C-736yykQRLf"
      }
    },
    {
      "cell_type": "markdown",
      "source": [
        "- Explain the k-Nearest Neighbors (k-NN) algorithm and its fundamental principle"
      ],
      "metadata": {
        "id": "C0LCIuTWQdVG"
      }
    },
    {
      "cell_type": "markdown",
      "source": [
        "###<font color=\"green\">**Answer:**</font>"
      ],
      "metadata": {
        "id": "L-oYiyTNQfJ-"
      }
    },
    {
      "cell_type": "markdown",
      "source": [
        "##<font color=\"red\">**Question 5**</font>\n",
        "You're expected implement a K-Nearest Neighbors classifier. first import <font color=\"blue\">**glass.csv**</font>. extract **Type column** as a target."
      ],
      "metadata": {
        "id": "mM5QJxVnQtdt"
      }
    },
    {
      "cell_type": "markdown",
      "source": [
        "#### **Import libraries**\n",
        "\n",
        "you can also import other libraries that you think is needed"
      ],
      "metadata": {
        "id": "ZLvp3XxXRKIX"
      }
    },
    {
      "cell_type": "code",
      "source": [
        "import numpy as np # linear algebra\n",
        "import pandas as pd # data processing, CSV file I/O (e.g. pd.read_csv)\n",
        "import matplotlib.pyplot as plt # for data visualization purposes\n",
        "import seaborn as sns # for statistical data visualization"
      ],
      "metadata": {
        "id": "tK3Dmx6zRKIb"
      },
      "execution_count": null,
      "outputs": []
    },
    {
      "cell_type": "markdown",
      "source": [
        "####**Import dataset**"
      ],
      "metadata": {
        "id": "csfvCFgjRKIc"
      }
    },
    {
      "cell_type": "code",
      "source": [
        "# Your code:"
      ],
      "metadata": {
        "id": "7HPCTfQxRKIc"
      },
      "execution_count": null,
      "outputs": []
    },
    {
      "cell_type": "markdown",
      "source": [
        "####**Exploratory data analysis**\n",
        "\n",
        "- **Data review (EDA, data cleaning, preprocess,...)**"
      ],
      "metadata": {
        "id": "DJu4HJqJRKId"
      }
    },
    {
      "cell_type": "code",
      "source": [
        "# Your Code"
      ],
      "metadata": {
        "id": "OwnkoTnNRKId"
      },
      "execution_count": null,
      "outputs": []
    },
    {
      "cell_type": "markdown",
      "source": [
        "####**Data visualization**\n",
        "\n",
        "- **Visualize the number of type in the dataset**\n",
        "- **Use barplot, scatter plot,...**"
      ],
      "metadata": {
        "id": "7iO9K06-RkVo"
      }
    },
    {
      "cell_type": "code",
      "source": [
        "# Your Code"
      ],
      "metadata": {
        "id": "tDs2JUAsRkV3"
      },
      "execution_count": null,
      "outputs": []
    },
    {
      "cell_type": "markdown",
      "source": [
        "####**Data preparing for KNN**\n"
      ],
      "metadata": {
        "id": "Vv08sQ4CRlsI"
      }
    },
    {
      "cell_type": "code",
      "source": [
        "# Your Code"
      ],
      "metadata": {
        "id": "GA4VxSjGRlsU"
      },
      "execution_count": null,
      "outputs": []
    },
    {
      "cell_type": "markdown",
      "source": [
        "####**Training Model**\n"
      ],
      "metadata": {
        "id": "Yum_LgxxRmFp"
      }
    },
    {
      "cell_type": "code",
      "source": [
        "# Your Code"
      ],
      "metadata": {
        "id": "C_qvvtjJRmFp"
      },
      "execution_count": null,
      "outputs": []
    },
    {
      "cell_type": "markdown",
      "source": [
        "####**Find the best parameter of n_neighbors**\n",
        "> <font color=\"orange\">**Note:**</font>\n",
        "**Use GridSearchCV**"
      ],
      "metadata": {
        "id": "Gy_k2xUrSlnA"
      }
    },
    {
      "cell_type": "code",
      "source": [
        "# Your Code"
      ],
      "metadata": {
        "id": "bFCRYz6ISlnB"
      },
      "execution_count": null,
      "outputs": []
    },
    {
      "cell_type": "markdown",
      "source": [
        "#### **Results and conclusion**\n",
        "Briefly explain what you did and what you got"
      ],
      "metadata": {
        "id": "OrwgpUePTBEy"
      }
    },
    {
      "cell_type": "markdown",
      "source": [
        "#####<font color=\"green\">**Answer:**</font>"
      ],
      "metadata": {
        "id": "oHpFnjl1TBEz"
      }
    },
    {
      "cell_type": "markdown",
      "source": [
        "#Multi-class Classification\n",
        "**Multi-class classification** is a type of supervised machine learning task where the goal is to assign a single input data point to one of multiple possible classes or categories."
      ],
      "metadata": {
        "id": "xU7T345hTbu_"
      }
    },
    {
      "cell_type": "markdown",
      "source": [
        "##<font color=\"red\">**Question 6**</font>"
      ],
      "metadata": {
        "id": "HwqKjcv-TWjb"
      }
    },
    {
      "cell_type": "markdown",
      "source": [
        "- What are two strategies of classify multi-class data? explain both and their differences."
      ],
      "metadata": {
        "id": "T4MLzjBiTWjd"
      }
    },
    {
      "cell_type": "markdown",
      "source": [
        "###<font color=\"green\">**Answer:**</font>"
      ],
      "metadata": {
        "id": "J_aYzbHJTWjd"
      }
    },
    {
      "cell_type": "markdown",
      "source": [
        "##<font color=\"red\">**Question 7**</font>\n",
        "\n",
        "So you are going to implement a multi-class classification. the one thing you should do is importing <font color=\"blue\">**mobile price**</font> dataset. Target column is **price_range**.\n",
        "\n",
        "> <font color=\"orange\">**Note:**</font> Your code should be readable and with a lot ot explaination\n"
      ],
      "metadata": {
        "id": "uDloprJ2Togp"
      }
    },
    {
      "cell_type": "markdown",
      "source": [
        "#### **Import libraries**\n",
        "\n",
        "you can also import other libraries that you think is needed"
      ],
      "metadata": {
        "id": "ISgkVpLZUhVH"
      }
    },
    {
      "cell_type": "code",
      "source": [
        "import numpy as np # linear algebra\n",
        "import pandas as pd # data processing, CSV file I/O (e.g. pd.read_csv)\n",
        "import matplotlib.pyplot as plt # for data visualization purposes\n",
        "import seaborn as sns # for statistical data visualization"
      ],
      "metadata": {
        "id": "TdOlsKU4UhVY"
      },
      "execution_count": null,
      "outputs": []
    },
    {
      "cell_type": "markdown",
      "source": [
        "####**Import dataset**"
      ],
      "metadata": {
        "id": "opfmpxQSUhVZ"
      }
    },
    {
      "cell_type": "code",
      "source": [
        "# Your code:"
      ],
      "metadata": {
        "id": "xC8J_2lCUhVZ"
      },
      "execution_count": null,
      "outputs": []
    },
    {
      "cell_type": "markdown",
      "source": [
        "####**Exploratory data analysis**\n",
        "\n",
        "- **If necessary EDA, data cleaning, preprocess...**"
      ],
      "metadata": {
        "id": "ZkXZ5M6NUhVZ"
      }
    },
    {
      "cell_type": "code",
      "source": [
        "# Your Code"
      ],
      "metadata": {
        "id": "FD0mhVX8UhVa"
      },
      "execution_count": null,
      "outputs": []
    },
    {
      "cell_type": "markdown",
      "source": [
        "####**Data visualization**\n",
        "\n",
        "- **corr, hist...**"
      ],
      "metadata": {
        "id": "vlZOe_JQUhVa"
      }
    },
    {
      "cell_type": "code",
      "source": [
        "# Your Code"
      ],
      "metadata": {
        "id": "ug5U8RenUhVb"
      },
      "execution_count": null,
      "outputs": []
    },
    {
      "cell_type": "markdown",
      "source": [
        "####**Data preparing**\n"
      ],
      "metadata": {
        "id": "eUaEs_Q9UhVb"
      }
    },
    {
      "cell_type": "code",
      "source": [
        "# Your Code"
      ],
      "metadata": {
        "id": "-5MFs86IUhVc"
      },
      "execution_count": null,
      "outputs": []
    },
    {
      "cell_type": "markdown",
      "source": [
        "####**Training Model**\n",
        "Choose at least two common algorithms like:\n",
        "- k-Nearest Neighbors.\n",
        "- Decision Trees.\n",
        "- Naive Bayes.\n",
        "- Random Forest."
      ],
      "metadata": {
        "id": "-xwOHsTKUhVc"
      }
    },
    {
      "cell_type": "code",
      "source": [
        "# Your Code"
      ],
      "metadata": {
        "id": "DoCPn5sZUhVc"
      },
      "execution_count": null,
      "outputs": []
    },
    {
      "cell_type": "markdown",
      "source": [
        "####**Show and analyze confusion matrix, recall, accuracy, precision and other metrics that you think is useful**"
      ],
      "metadata": {
        "id": "2OivqLCAUhVd"
      }
    },
    {
      "cell_type": "code",
      "source": [
        "# Your Code"
      ],
      "metadata": {
        "id": "3vSs-eh7UhVd"
      },
      "execution_count": null,
      "outputs": []
    },
    {
      "cell_type": "markdown",
      "source": [
        "#### **Results and conclusion**\n",
        "Briefly explain what you did and what you got"
      ],
      "metadata": {
        "id": "mpaGNkWIUhVd"
      }
    },
    {
      "cell_type": "markdown",
      "source": [
        "#####<font color=\"green\">**Answer:**</font>"
      ],
      "metadata": {
        "id": "5NM_ZypIUhVe"
      }
    },
    {
      "cell_type": "markdown",
      "source": [
        "#LDA and QDA"
      ],
      "metadata": {
        "id": "TJXE0D7FaAmh"
      }
    },
    {
      "cell_type": "markdown",
      "source": [
        "##Linear Discriminant Analysis (LDA)\n",
        "Linear Discriminant Analysis is a supervised machine learning algorithm used for dimensionality reduction and classification. Its primary goal is to find a linear combination of features that best separates two or more classes in the data. LDA is particularly useful when you have labeled data and want to reduce the dimensionality while preserving class separability."
      ],
      "metadata": {
        "id": "XP6q_h5xZytD"
      }
    },
    {
      "cell_type": "markdown",
      "source": [
        "##Quadratic Discriminant Analysis (QDA)\n",
        "Quadratic Discriminant Analysis is another supervised classification and dimensionality reduction technique used for similar purposes as LDA. However, it differs from LDA in a few key ways."
      ],
      "metadata": {
        "id": "at9pqPxfZ37V"
      }
    },
    {
      "cell_type": "markdown",
      "source": [
        "###<font color=\"red\">**Question 7**</font>"
      ],
      "metadata": {
        "id": "BVyDOaZEaNgy"
      }
    },
    {
      "cell_type": "markdown",
      "source": [
        "- Contrast the key differences between Linear Discriminant Analysis (LDA) and Quadratic Discriminant Analysis (QDA). How do these differences impact the decision boundaries and flexibility of the two algorithms?\n",
        "\n",
        "- If the Bayes decision boundary is linear, do we expect LDA or QDA to perform better on the training set? On the test set?\n",
        "\n",
        "- If the Bayes decision boundary is non-linear, do we expect LDA or QDA to perform better on the training set? On the test set?"
      ],
      "metadata": {
        "id": "HBQR7iC5aNhC"
      }
    },
    {
      "cell_type": "markdown",
      "source": [
        "####<font color=\"green\">**Answer:**</font>"
      ],
      "metadata": {
        "id": "Mk7c-G0haNhD"
      }
    },
    {
      "cell_type": "markdown",
      "source": [
        "###<font color=\"red\">**Question 8**</font>\n",
        "\n",
        "This question should be answered using the <font color=\"blue\">**Weekly**</font> data set"
      ],
      "metadata": {
        "id": "HkX5yKTRcF-g"
      }
    },
    {
      "cell_type": "markdown",
      "source": [
        "#### **Import libraries**\n",
        "\n",
        "you can also import other libraries that you think is needed"
      ],
      "metadata": {
        "id": "ADwGj-RsdAgN"
      }
    },
    {
      "cell_type": "code",
      "source": [
        "import numpy as np # linear algebra\n",
        "import pandas as pd # data processing, CSV file I/O (e.g. pd.read_csv)\n",
        "import matplotlib.pyplot as plt # for data visualization purposes\n",
        "import seaborn as sns # for statistical data visualization"
      ],
      "metadata": {
        "id": "1_hSoDcddAgc"
      },
      "execution_count": null,
      "outputs": []
    },
    {
      "cell_type": "markdown",
      "source": [
        "####**Import dataset**"
      ],
      "metadata": {
        "id": "Nzp70fJCdAgd"
      }
    },
    {
      "cell_type": "code",
      "source": [
        "!pip install ISLP"
      ],
      "metadata": {
        "id": "yJsTd0kIdJJ4"
      },
      "execution_count": null,
      "outputs": []
    },
    {
      "cell_type": "code",
      "source": [
        "from ISLP import load_data\n",
        "Weekly = load_data('Weekly')"
      ],
      "metadata": {
        "id": "WKe6yBpGdAgd"
      },
      "execution_count": null,
      "outputs": []
    },
    {
      "cell_type": "markdown",
      "source": [
        "####**a) Produce some numerical and graphical summaries of the Weekly data**"
      ],
      "metadata": {
        "id": "pQsTBgtZdbqb"
      }
    },
    {
      "cell_type": "code",
      "source": [
        "# Your Code"
      ],
      "metadata": {
        "id": "B-YQSr6GddDy"
      },
      "execution_count": null,
      "outputs": []
    },
    {
      "cell_type": "markdown",
      "source": [
        "- Do there appear to be any patterns?"
      ],
      "metadata": {
        "id": "5HAQa_zhdfjS"
      }
    },
    {
      "cell_type": "markdown",
      "source": [
        "####**b) Use the full data set to perform a logistic regression with Direction as the response and the five lag variables plus Volume as predictors. Use the summary function to print the results**"
      ],
      "metadata": {
        "id": "WfRpgVBydjZS"
      }
    },
    {
      "cell_type": "code",
      "source": [
        "import statsmodels.api as sm\n",
        "from statsmodels.discrete.discrete_model import Logit\n",
        "\n",
        "# Your code"
      ],
      "metadata": {
        "id": "RGd7x1BfdiBw"
      },
      "execution_count": null,
      "outputs": []
    },
    {
      "cell_type": "markdown",
      "source": [
        "- Do any of the predictors appear to be statistically significant? If so, which ones?"
      ],
      "metadata": {
        "id": "1xI9QAS0eD8r"
      }
    },
    {
      "cell_type": "markdown",
      "source": [
        "####**c) Compute the confusion matrix and overall fraction of correct predictions**"
      ],
      "metadata": {
        "id": "apjKvE7QeP6Y"
      }
    },
    {
      "cell_type": "code",
      "source": [
        "# Your Code"
      ],
      "metadata": {
        "id": "dg_nX-KheE9Y"
      },
      "execution_count": null,
      "outputs": []
    },
    {
      "cell_type": "markdown",
      "source": [
        "- Explain what the confusion matrix is telling you about the types of mistakes made by logistic regression."
      ],
      "metadata": {
        "id": "Ek2m-EYzeY26"
      }
    },
    {
      "cell_type": "markdown",
      "source": [
        "####**d) Now fit the logistic regression model using a training data period from 1990 to 2008, with Lag2 as the only predictor. Compute the confusion matrix and the overall fraction of correct predictions for the held out data (that is, the data from 2009 and 2010).**"
      ],
      "metadata": {
        "id": "V_yu3WY_ejnf"
      }
    },
    {
      "cell_type": "code",
      "source": [
        "# Your Code"
      ],
      "metadata": {
        "id": "m1gdbO90eYsx"
      },
      "execution_count": null,
      "outputs": []
    },
    {
      "cell_type": "markdown",
      "source": [
        "####**e) Repeat (d) using LDA**"
      ],
      "metadata": {
        "id": "yUFzBLLbexSG"
      }
    },
    {
      "cell_type": "code",
      "source": [
        "# Your Code"
      ],
      "metadata": {
        "id": "m9wLrBN-eXqo"
      },
      "execution_count": null,
      "outputs": []
    },
    {
      "cell_type": "markdown",
      "source": [
        "####**f) Repeat (d) using QDA**"
      ],
      "metadata": {
        "id": "Icd2Mit7e_sZ"
      }
    },
    {
      "cell_type": "code",
      "source": [
        "# Your Code"
      ],
      "metadata": {
        "id": "J8VaEQERe_sk"
      },
      "execution_count": null,
      "outputs": []
    },
    {
      "cell_type": "markdown",
      "source": [
        "####**g) Repeat (d) using KNN with K = 1**"
      ],
      "metadata": {
        "id": "WdBsH6kHfAa8"
      }
    },
    {
      "cell_type": "code",
      "source": [
        "# Your Code"
      ],
      "metadata": {
        "id": "9JyUbLjefAa8"
      },
      "execution_count": null,
      "outputs": []
    },
    {
      "cell_type": "markdown",
      "source": [
        "####**h) Which of these methods appears to provide the best results on this data?**"
      ],
      "metadata": {
        "id": "9SQuJqF1fAk_"
      }
    },
    {
      "cell_type": "markdown",
      "source": [
        "#####<font color=\"green\">**Answer:**</font>"
      ],
      "metadata": {
        "id": "GIF0B91NfV2X"
      }
    }
  ]
}