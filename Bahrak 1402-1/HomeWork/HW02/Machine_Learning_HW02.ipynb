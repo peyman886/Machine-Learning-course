{
  "nbformat": 4,
  "nbformat_minor": 0,
  "metadata": {
    "colab": {
      "provenance": [],
      "collapsed_sections": [
        "4-UsBJN1Dtyr",
        "6-wuCab5GlpV",
        "gng7sYeSHhjS",
        "4be9zg7WZrvc",
        "ZLvp3XxXRKIX",
        "csfvCFgjRKIc",
        "xU7T345hTbu_",
        "ISgkVpLZUhVH",
        "opfmpxQSUhVZ",
        "BVyDOaZEaNgy",
        "HkX5yKTRcF-g"
      ]
    },
    "kernelspec": {
      "name": "python3",
      "display_name": "Python 3"
    },
    "language_info": {
      "name": "python"
    }
  },
  "cells": [
    {
      "cell_type": "markdown",
      "source": [
        "## Homework 2\n",
        "Hi everyone this is your seceond homework.\n",
        "\n",
        "In this exercise, we intend to familiarize you more with classification, LDA, QDA algorithms.\n",
        "\n",
        "You are free to discuss the problems and ways to approach them with your classmates, but be sure to not cheat. **Cheating will not be tolerated**."
      ],
      "metadata": {
        "id": "YrU5iOPu9fQ9"
      }
    },
    {
      "cell_type": "markdown",
      "source": [
        "# An introduce classification\n",
        "\n",
        "**Classification** is a fundamental task in machine learning that involves categorizing data points into predefined classes or categories based on their features or characteristics. It plays a crucial role in various applications across industries, from image recognition and natural language processing to fraud detection and medical diagnosis. Here's a big picture overview of classification in machine learning:\n",
        "\n",
        "You have learned data collection and processing and feature extraction and selectin in chapter 2.\n",
        "\n",
        "There are various classification algorithms available, each with its strengths and weaknesses. The choice of algorithm depends on the nature of the data and the problem you are trying to solve. Common classification algorithms include:\n",
        "\n",
        "1. Logistic Regression\n",
        "2. Decision Trees\n",
        "3. Random Forest\n",
        "4. Support Vector Machines (SVM)\n",
        "5. k-Nearest Neighbors (k-NN)\n",
        "6. Naive Bayes\n",
        "7. Gradient Boosting (e.g., XGBoost, LightGBM)\n",
        "\n",
        "**Training the Model:**\n",
        "\n",
        "* Once an algorithm is selected, the model is trained on a portion of the dataset (training data). During training, the algorithm learns to recognize patterns and relationships between features and class labels.\n",
        "* The model's parameters are adjusted iteratively to minimize a specific loss function, making it better at making accurate predictions.\n",
        "\n",
        "**Model Evaluation:**\n",
        "\n",
        "* To assess the model's performance, it is tested on a separate dataset (validation or test data) that it has not seen during training. Common evaluation metrics for classification tasks include accuracy, precision, recall, F1-score, and area under the Receiver Operating Characteristic (ROC-AUC) curve.\n",
        "* Cross-validation techniques may also be used to ensure robustness and avoid overfitting."
      ],
      "metadata": {
        "id": "9MbjiYIh_WQd"
      }
    },
    {
      "cell_type": "markdown",
      "source": [
        "#Binary Classification\n",
        "\n",
        "**Binary classification** is a fundamental concept in machine learning and statistics. It is a type of supervised learning task in which the goal is to categorize data points into one of two possible classes or categories. In binary classification, there are two mutually exclusive and exhaustive classes: the positive class (often labeled as \"1\" or \"positive\") and the negative class (labeled as \"0\" or \"negative\"). The objective is to assign each data point to one of these two classes based on its features or attributes.\n",
        "\n",
        "Depond on the application, choosing a decision threshold for classifying data points into the positive or negative class is one of the most important thing that you should do. This threshold can be adjusted to achieve a desired trade-off between precision and recall.\n",
        "\n",
        "\n",
        "##Introduction to Naive Bayes algorithm\n",
        "\n",
        "In machine learning, Naïve Bayes classification is a straightforward and powerful algorithm for the classification task. Naïve Bayes classification is based on applying Bayes’ theorem with strong independence assumption between the features. Naïve Bayes classification produces good results when we use it for textual data analysis such as Natural Language Processing.\n",
        "\n",
        "Naïve Bayes models are also known as simple Bayes or independent Bayes. All these names refer to the application of Bayes’ theorem in the classifier’s decision rule. Naïve Bayes classifier applies the Bayes’ theorem in practice. This classifier brings the power of Bayes’ theorem to machine learning.\n",
        "\n",
        "\n",
        "##<font color=\"red\">**Question 1**</font>\n",
        "\n",
        "* Explain Naive Bayes algorithm and the \"naive\" assumption in Naive Bayes"
      ],
      "metadata": {
        "id": "4-UsBJN1Dtyr"
      }
    },
    {
      "cell_type": "markdown",
      "source": [
        "###<font color=\"green\">**Answer:**</font>"
      ],
      "metadata": {
        "id": "AyGJMV6kFIHB"
      }
    },
    {
      "cell_type": "markdown",
      "source": [
        "##<font color=\"red\">**Question 2**</font>\n",
        "Explain the trade-off between precision and recall in the context of binary classification. Provide an example scenario where optimizing one metric might come at the expense of the other. How can this trade-off be managed to make an informed decision when building a classification model?\n",
        "\n",
        "\n",
        "> <font color=\"orange\">**Note:**</font>\n",
        "Present a practical example scenario, such as a medical test for a rare disease. Explain how optimizing one metric (e.g., precision) may result in fewer false alarms (fewer healthy patients incorrectly identified as having the disease) but could miss some true cases of the disease (lower recall).\n"
      ],
      "metadata": {
        "id": "6-wuCab5GlpV"
      }
    },
    {
      "cell_type": "markdown",
      "source": [
        "###<font color=\"green\">**Answer:**</font>"
      ],
      "metadata": {
        "id": "x84A8MdNHeh-"
      }
    },
    {
      "cell_type": "markdown",
      "source": [
        "##<font color=\"red\">**Question 3**</font>\n",
        "Now it's time to implement a naive bayse classifier and deal with a real dataset step by step. first you need to import some important libraries and <font color=\"blue\">**adult.csv**</font> dataset.\n"
      ],
      "metadata": {
        "id": "gng7sYeSHhjS"
      }
    },
    {
      "cell_type": "markdown",
      "source": [
        "> <font color=\"orange\">**Note:**</font>\n",
        "Don't Remember to analyse and explain each part"
      ],
      "metadata": {
        "id": "QV8nlHLKO5Wq"
      }
    },
    {
      "cell_type": "markdown",
      "source": [
        "#### **Import libraries**\n",
        "\n",
        "you can also import other libraries that you think is needed"
      ],
      "metadata": {
        "id": "1P8kBf1dKAD1"
      }
    },
    {
      "cell_type": "code",
      "source": [
        "import numpy as np # linear algebra\n",
        "import pandas as pd # data processing, CSV file I/O (e.g. pd.read_csv)\n",
        "import matplotlib.pyplot as plt # for data visualization purposes\n",
        "import seaborn as sns # for statistical data visualization"
      ],
      "metadata": {
        "id": "w4lJTntqHvC9"
      },
      "execution_count": null,
      "outputs": []
    },
    {
      "cell_type": "markdown",
      "source": [
        "####**Import dataset**"
      ],
      "metadata": {
        "id": "z866_mZOKGV7"
      }
    },
    {
      "cell_type": "code",
      "source": [
        "# Your code:"
      ],
      "metadata": {
        "id": "u3kAyGMMKcqX"
      },
      "execution_count": null,
      "outputs": []
    },
    {
      "cell_type": "markdown",
      "source": [
        "####**Exploratory data analysis**\n",
        "\n",
        "- **Use EDA, preprocess, data cleaning and other methods if necessary**\n",
        "\n",
        "\n",
        "> <font color=\"orange\">**Note:**</font>\n",
        "If you use dataset.head(), you can see that the dataset does not have proper column names. The columns are merely labelled as 0,1,2.... and so on.\n",
        "\n",
        "Use the names of the following columns and replace them with the names of the current columns\n",
        "\n",
        "\n",
        "**columns names:**\n",
        "\n",
        "age, workclass, fnlwgt, education, education_num, marital_status, occupation, relationship,race, sex, capital_gain, capital_loss, hours_per_week, native_country, income"
      ],
      "metadata": {
        "id": "XT4JHOB6KfQO"
      }
    },
    {
      "cell_type": "code",
      "source": [
        "# Your Code"
      ],
      "metadata": {
        "id": "HNRGjMToKr1b"
      },
      "execution_count": null,
      "outputs": []
    },
    {
      "cell_type": "markdown",
      "source": [
        "####**Declare feature vector and target variable**\n",
        "**target value is income**"
      ],
      "metadata": {
        "id": "I-QikjwiMLwq"
      }
    },
    {
      "cell_type": "code",
      "source": [
        "# Your code"
      ],
      "metadata": {
        "id": "EtL6DNLpMR0S"
      },
      "execution_count": null,
      "outputs": []
    },
    {
      "cell_type": "markdown",
      "source": [
        "####**Split data into separate training and test set**"
      ],
      "metadata": {
        "id": "Zs3lxodiMXD-"
      }
    },
    {
      "cell_type": "code",
      "source": [
        "# Your Code"
      ],
      "metadata": {
        "id": "vds34VM7McdS"
      },
      "execution_count": null,
      "outputs": []
    },
    {
      "cell_type": "markdown",
      "source": [
        "####**Use feature engineering and feature scaling like StandardScale or RobustScale**"
      ],
      "metadata": {
        "id": "Hc7P2IhMMeDy"
      }
    },
    {
      "cell_type": "code",
      "source": [
        "# Your Code:"
      ],
      "metadata": {
        "id": "skqvNCxcMiol"
      },
      "execution_count": null,
      "outputs": []
    },
    {
      "cell_type": "markdown",
      "source": [
        "####**Model training**"
      ],
      "metadata": {
        "id": "YTxcwnwKMkIu"
      }
    },
    {
      "cell_type": "code",
      "source": [
        "# Your Code"
      ],
      "metadata": {
        "id": "GY8QWX5gOXzo"
      },
      "execution_count": null,
      "outputs": []
    },
    {
      "cell_type": "markdown",
      "source": [
        "####**Check accuracy score and calulate f1-score, precision, recall**"
      ],
      "metadata": {
        "id": "Odp-BdsAOg_i"
      }
    },
    {
      "cell_type": "code",
      "source": [
        "# Your Code"
      ],
      "metadata": {
        "id": "YwebwO7OOi4U"
      },
      "execution_count": null,
      "outputs": []
    },
    {
      "cell_type": "markdown",
      "source": [
        "####**Calculate class possibilites**"
      ],
      "metadata": {
        "id": "sagawyxsOkk7"
      }
    },
    {
      "cell_type": "code",
      "source": [
        "# Your Code"
      ],
      "metadata": {
        "id": "Jk5f6yRWOrMo"
      },
      "execution_count": null,
      "outputs": []
    },
    {
      "cell_type": "markdown",
      "source": [
        "####**Use ROC-AUC and also k-Fold Cross Validation**"
      ],
      "metadata": {
        "id": "fjDamiPBOtEb"
      }
    },
    {
      "cell_type": "code",
      "source": [
        "# Your Code"
      ],
      "metadata": {
        "id": "ep_R3QQpOv7-"
      },
      "execution_count": null,
      "outputs": []
    },
    {
      "cell_type": "markdown",
      "source": [
        "#### **Results and conclusion**\n",
        "Briefly explain what you did and what you got"
      ],
      "metadata": {
        "id": "jvVg3uZEOxOL"
      }
    },
    {
      "cell_type": "markdown",
      "source": [
        "#####<font color=\"green\">**Answer:**</font>"
      ],
      "metadata": {
        "id": "SWepqYaMPzdH"
      }
    },
    {
      "cell_type": "markdown",
      "source": [
        "#KNN"
      ],
      "metadata": {
        "id": "4be9zg7WZrvc"
      }
    },
    {
      "cell_type": "markdown",
      "source": [
        "##<font color=\"red\">**Question 4**</font>\n"
      ],
      "metadata": {
        "id": "C-736yykQRLf"
      }
    },
    {
      "cell_type": "markdown",
      "source": [
        "- Explain the k-Nearest Neighbors (k-NN) algorithm and its fundamental principle"
      ],
      "metadata": {
        "id": "C0LCIuTWQdVG"
      }
    },
    {
      "cell_type": "markdown",
      "source": [
        "###<font color=\"green\">**Answer:**</font>"
      ],
      "metadata": {
        "id": "L-oYiyTNQfJ-"
      }
    },
    {
      "cell_type": "markdown",
      "source": [
        "##<font color=\"red\">**Question 5**</font>\n",
        "You're expected implement a K-Nearest Neighbors classifier. first import <font color=\"blue\">**glass.csv**</font>. extract **Type column** as a target."
      ],
      "metadata": {
        "id": "mM5QJxVnQtdt"
      }
    },
    {
      "cell_type": "markdown",
      "source": [
        "#### **Import libraries**\n",
        "\n",
        "you can also import other libraries that you think is needed"
      ],
      "metadata": {
        "id": "ZLvp3XxXRKIX"
      }
    },
    {
      "cell_type": "code",
      "source": [
        "import numpy as np # linear algebra\n",
        "import pandas as pd # data processing, CSV file I/O (e.g. pd.read_csv)\n",
        "import matplotlib.pyplot as plt # for data visualization purposes\n",
        "import seaborn as sns # for statistical data visualization"
      ],
      "metadata": {
        "id": "tK3Dmx6zRKIb"
      },
      "execution_count": null,
      "outputs": []
    },
    {
      "cell_type": "markdown",
      "source": [
        "####**Import dataset**"
      ],
      "metadata": {
        "id": "csfvCFgjRKIc"
      }
    },
    {
      "cell_type": "code",
      "source": [
        "# Your code:"
      ],
      "metadata": {
        "id": "7HPCTfQxRKIc"
      },
      "execution_count": null,
      "outputs": []
    },
    {
      "cell_type": "markdown",
      "source": [
        "####**Exploratory data analysis**\n",
        "\n",
        "- **Data review (EDA, data cleaning, preprocess,...)**"
      ],
      "metadata": {
        "id": "DJu4HJqJRKId"
      }
    },
    {
      "cell_type": "code",
      "source": [
        "# Your Code"
      ],
      "metadata": {
        "id": "OwnkoTnNRKId"
      },
      "execution_count": null,
      "outputs": []
    },
    {
      "cell_type": "markdown",
      "source": [
        "####**Data visualization**\n",
        "\n",
        "- **Visualize the number of type in the dataset**\n",
        "- **Use barplot, scatter plot,...**"
      ],
      "metadata": {
        "id": "7iO9K06-RkVo"
      }
    },
    {
      "cell_type": "code",
      "source": [
        "# Your Code"
      ],
      "metadata": {
        "id": "tDs2JUAsRkV3"
      },
      "execution_count": null,
      "outputs": []
    },
    {
      "cell_type": "markdown",
      "source": [
        "####**Data preparing for KNN**\n"
      ],
      "metadata": {
        "id": "Vv08sQ4CRlsI"
      }
    },
    {
      "cell_type": "code",
      "source": [
        "# Your Code"
      ],
      "metadata": {
        "id": "GA4VxSjGRlsU"
      },
      "execution_count": null,
      "outputs": []
    },
    {
      "cell_type": "markdown",
      "source": [
        "####**Training Model**\n"
      ],
      "metadata": {
        "id": "Yum_LgxxRmFp"
      }
    },
    {
      "cell_type": "code",
      "source": [
        "# Your Code"
      ],
      "metadata": {
        "id": "C_qvvtjJRmFp"
      },
      "execution_count": null,
      "outputs": []
    },
    {
      "cell_type": "markdown",
      "source": [
        "####**Find the best parameter of n_neighbors**\n",
        "> <font color=\"orange\">**Note:**</font>\n",
        "**Use GridSearchCV**"
      ],
      "metadata": {
        "id": "Gy_k2xUrSlnA"
      }
    },
    {
      "cell_type": "code",
      "source": [
        "# Your Code"
      ],
      "metadata": {
        "id": "bFCRYz6ISlnB"
      },
      "execution_count": null,
      "outputs": []
    },
    {
      "cell_type": "markdown",
      "source": [
        "#### **Results and conclusion**\n",
        "Briefly explain what you did and what you got"
      ],
      "metadata": {
        "id": "OrwgpUePTBEy"
      }
    },
    {
      "cell_type": "markdown",
      "source": [
        "#####<font color=\"green\">**Answer:**</font>"
      ],
      "metadata": {
        "id": "oHpFnjl1TBEz"
      }
    },
    {
      "cell_type": "markdown",
      "source": [
        "#Multi-class Classification\n",
        "**Multi-class classification** is a type of supervised machine learning task where the goal is to assign a single input data point to one of multiple possible classes or categories."
      ],
      "metadata": {
        "id": "xU7T345hTbu_"
      }
    },
    {
      "cell_type": "markdown",
      "source": [
        "##<font color=\"red\">**Question 6**</font>"
      ],
      "metadata": {
        "id": "HwqKjcv-TWjb"
      }
    },
    {
      "cell_type": "markdown",
      "source": [
        "- What are two strategies of classify multi-class data? explain both and their differences."
      ],
      "metadata": {
        "id": "T4MLzjBiTWjd"
      }
    },
    {
      "cell_type": "markdown",
      "source": [
        "###<font color=\"green\">**Answer:**</font>"
      ],
      "metadata": {
        "id": "J_aYzbHJTWjd"
      }
    },
    {
      "cell_type": "markdown",
      "source": [
        "##<font color=\"red\">**Question 7**</font>\n",
        "\n",
        "So you are going to implement a multi-class classification. the one thing you should do is importing <font color=\"blue\">**mobile price**</font> dataset. Target column is **price_range**.\n",
        "\n",
        "> <font color=\"orange\">**Note:**</font> Your code should be readable and with a lot ot explaination\n"
      ],
      "metadata": {
        "id": "uDloprJ2Togp"
      }
    },
    {
      "cell_type": "markdown",
      "source": [
        "#### **Import libraries**\n",
        "\n",
        "you can also import other libraries that you think is needed"
      ],
      "metadata": {
        "id": "ISgkVpLZUhVH"
      }
    },
    {
      "cell_type": "code",
      "source": [
        "import numpy as np # linear algebra\n",
        "import pandas as pd # data processing, CSV file I/O (e.g. pd.read_csv)\n",
        "import matplotlib.pyplot as plt # for data visualization purposes\n",
        "import seaborn as sns # for statistical data visualization"
      ],
      "metadata": {
        "id": "TdOlsKU4UhVY"
      },
      "execution_count": null,
      "outputs": []
    },
    {
      "cell_type": "markdown",
      "source": [
        "####**Import dataset**"
      ],
      "metadata": {
        "id": "opfmpxQSUhVZ"
      }
    },
    {
      "cell_type": "code",
      "source": [
        "# Your code:"
      ],
      "metadata": {
        "id": "xC8J_2lCUhVZ"
      },
      "execution_count": null,
      "outputs": []
    },
    {
      "cell_type": "markdown",
      "source": [
        "####**Exploratory data analysis**\n",
        "\n",
        "- **If necessary EDA, data cleaning, preprocess...**"
      ],
      "metadata": {
        "id": "ZkXZ5M6NUhVZ"
      }
    },
    {
      "cell_type": "code",
      "source": [
        "# Your Code"
      ],
      "metadata": {
        "id": "FD0mhVX8UhVa"
      },
      "execution_count": null,
      "outputs": []
    },
    {
      "cell_type": "markdown",
      "source": [
        "####**Data visualization**\n",
        "\n",
        "- **corr, hist...**"
      ],
      "metadata": {
        "id": "vlZOe_JQUhVa"
      }
    },
    {
      "cell_type": "code",
      "source": [
        "# Your Code"
      ],
      "metadata": {
        "id": "ug5U8RenUhVb"
      },
      "execution_count": null,
      "outputs": []
    },
    {
      "cell_type": "markdown",
      "source": [
        "####**Data preparing**\n"
      ],
      "metadata": {
        "id": "eUaEs_Q9UhVb"
      }
    },
    {
      "cell_type": "code",
      "source": [
        "# Your Code"
      ],
      "metadata": {
        "id": "-5MFs86IUhVc"
      },
      "execution_count": null,
      "outputs": []
    },
    {
      "cell_type": "markdown",
      "source": [
        "####**Training Model**\n",
        "Choose at least two common algorithms like:\n",
        "- k-Nearest Neighbors.\n",
        "- Decision Trees.\n",
        "- Naive Bayes.\n",
        "- Random Forest."
      ],
      "metadata": {
        "id": "-xwOHsTKUhVc"
      }
    },
    {
      "cell_type": "code",
      "source": [
        "# Your Code"
      ],
      "metadata": {
        "id": "DoCPn5sZUhVc"
      },
      "execution_count": null,
      "outputs": []
    },
    {
      "cell_type": "markdown",
      "source": [
        "####**Show and analyze confusion matrix, recall, accuracy, precision and other metrics that you think is useful**"
      ],
      "metadata": {
        "id": "2OivqLCAUhVd"
      }
    },
    {
      "cell_type": "code",
      "source": [
        "# Your Code"
      ],
      "metadata": {
        "id": "3vSs-eh7UhVd"
      },
      "execution_count": null,
      "outputs": []
    },
    {
      "cell_type": "markdown",
      "source": [
        "#### **Results and conclusion**\n",
        "Briefly explain what you did and what you got"
      ],
      "metadata": {
        "id": "mpaGNkWIUhVd"
      }
    },
    {
      "cell_type": "markdown",
      "source": [
        "#####<font color=\"green\">**Answer:**</font>"
      ],
      "metadata": {
        "id": "5NM_ZypIUhVe"
      }
    },
    {
      "cell_type": "markdown",
      "source": [
        "#LDA and QDA"
      ],
      "metadata": {
        "id": "TJXE0D7FaAmh"
      }
    },
    {
      "cell_type": "markdown",
      "source": [
        "##Linear Discriminant Analysis (LDA)\n",
        "Linear Discriminant Analysis is a supervised machine learning algorithm used for dimensionality reduction and classification. Its primary goal is to find a linear combination of features that best separates two or more classes in the data. LDA is particularly useful when you have labeled data and want to reduce the dimensionality while preserving class separability."
      ],
      "metadata": {
        "id": "XP6q_h5xZytD"
      }
    },
    {
      "cell_type": "markdown",
      "source": [
        "##Quadratic Discriminant Analysis (QDA)\n",
        "Quadratic Discriminant Analysis is another supervised classification and dimensionality reduction technique used for similar purposes as LDA. However, it differs from LDA in a few key ways."
      ],
      "metadata": {
        "id": "at9pqPxfZ37V"
      }
    },
    {
      "cell_type": "markdown",
      "source": [
        "###<font color=\"red\">**Question 7**</font>"
      ],
      "metadata": {
        "id": "BVyDOaZEaNgy"
      }
    },
    {
      "cell_type": "markdown",
      "source": [
        "- Contrast the key differences between Linear Discriminant Analysis (LDA) and Quadratic Discriminant Analysis (QDA). How do these differences impact the decision boundaries and flexibility of the two algorithms?\n",
        "\n",
        "- If the Bayes decision boundary is linear, do we expect LDA or QDA to perform better on the training set? On the test set?\n",
        "\n",
        "- If the Bayes decision boundary is non-linear, do we expect LDA or QDA to perform better on the training set? On the test set?"
      ],
      "metadata": {
        "id": "HBQR7iC5aNhC"
      }
    },
    {
      "cell_type": "markdown",
      "source": [
        "####<font color=\"green\">**Answer:**</font>"
      ],
      "metadata": {
        "id": "Mk7c-G0haNhD"
      }
    },
    {
      "cell_type": "markdown",
      "source": [
        "###<font color=\"red\">**Question 8**</font>\n",
        "\n",
        "This question should be answered using the <font color=\"blue\">**Weekly**</font> data set"
      ],
      "metadata": {
        "id": "HkX5yKTRcF-g"
      }
    },
    {
      "cell_type": "markdown",
      "source": [
        "#### **Import libraries**\n",
        "\n",
        "you can also import other libraries that you think is needed"
      ],
      "metadata": {
        "id": "ADwGj-RsdAgN"
      }
    },
    {
      "cell_type": "code",
      "source": [
        "import numpy as np # linear algebra\n",
        "import pandas as pd # data processing, CSV file I/O (e.g. pd.read_csv)\n",
        "import matplotlib.pyplot as plt # for data visualization purposes\n",
        "import seaborn as sns # for statistical data visualization"
      ],
      "metadata": {
        "id": "1_hSoDcddAgc"
      },
      "execution_count": null,
      "outputs": []
    },
    {
      "cell_type": "markdown",
      "source": [
        "####**Import dataset**"
      ],
      "metadata": {
        "id": "Nzp70fJCdAgd"
      }
    },
    {
      "cell_type": "code",
      "source": [
        "!pip install ISLP"
      ],
      "metadata": {
        "id": "yJsTd0kIdJJ4"
      },
      "execution_count": null,
      "outputs": []
    },
    {
      "cell_type": "code",
      "source": [
        "from ISLP import load_data\n",
        "Weekly = load_data('Weekly')"
      ],
      "metadata": {
        "id": "WKe6yBpGdAgd"
      },
      "execution_count": null,
      "outputs": []
    },
    {
      "cell_type": "markdown",
      "source": [
        "####**a) Produce some numerical and graphical summaries of the Weekly data**"
      ],
      "metadata": {
        "id": "pQsTBgtZdbqb"
      }
    },
    {
      "cell_type": "code",
      "source": [
        "# Your Code"
      ],
      "metadata": {
        "id": "B-YQSr6GddDy"
      },
      "execution_count": null,
      "outputs": []
    },
    {
      "cell_type": "markdown",
      "source": [
        "- Do there appear to be any patterns?"
      ],
      "metadata": {
        "id": "5HAQa_zhdfjS"
      }
    },
    {
      "cell_type": "markdown",
      "source": [
        "####**b) Use the full data set to perform a logistic regression with Direction as the response and the five lag variables plus Volume as predictors. Use the summary function to print the results**"
      ],
      "metadata": {
        "id": "WfRpgVBydjZS"
      }
    },
    {
      "cell_type": "code",
      "source": [
        "import statsmodels.api as sm\n",
        "from statsmodels.discrete.discrete_model import Logit\n",
        "\n",
        "# Your code"
      ],
      "metadata": {
        "id": "RGd7x1BfdiBw"
      },
      "execution_count": null,
      "outputs": []
    },
    {
      "cell_type": "markdown",
      "source": [
        "- Do any of the predictors appear to be statistically significant? If so, which ones?"
      ],
      "metadata": {
        "id": "1xI9QAS0eD8r"
      }
    },
    {
      "cell_type": "markdown",
      "source": [
        "####**c) Compute the confusion matrix and overall fraction of correct predictions**"
      ],
      "metadata": {
        "id": "apjKvE7QeP6Y"
      }
    },
    {
      "cell_type": "code",
      "source": [
        "# Your Code"
      ],
      "metadata": {
        "id": "dg_nX-KheE9Y"
      },
      "execution_count": null,
      "outputs": []
    },
    {
      "cell_type": "markdown",
      "source": [
        "- Explain what the confusion matrix is telling you about the types of mistakes made by logistic regression."
      ],
      "metadata": {
        "id": "Ek2m-EYzeY26"
      }
    },
    {
      "cell_type": "markdown",
      "source": [
        "####**d) Now fit the logistic regression model using a training data period from 1990 to 2008, with Lag2 as the only predictor. Compute the confusion matrix and the overall fraction of correct predictions for the held out data (that is, the data from 2009 and 2010).**"
      ],
      "metadata": {
        "id": "V_yu3WY_ejnf"
      }
    },
    {
      "cell_type": "code",
      "source": [
        "# Your Code"
      ],
      "metadata": {
        "id": "m1gdbO90eYsx"
      },
      "execution_count": null,
      "outputs": []
    },
    {
      "cell_type": "markdown",
      "source": [
        "####**e) Repeat (d) using LDA**"
      ],
      "metadata": {
        "id": "yUFzBLLbexSG"
      }
    },
    {
      "cell_type": "code",
      "source": [
        "# Your Code"
      ],
      "metadata": {
        "id": "m9wLrBN-eXqo"
      },
      "execution_count": null,
      "outputs": []
    },
    {
      "cell_type": "markdown",
      "source": [
        "####**f) Repeat (d) using QDA**"
      ],
      "metadata": {
        "id": "Icd2Mit7e_sZ"
      }
    },
    {
      "cell_type": "code",
      "source": [
        "# Your Code"
      ],
      "metadata": {
        "id": "J8VaEQERe_sk"
      },
      "execution_count": null,
      "outputs": []
    },
    {
      "cell_type": "markdown",
      "source": [
        "####**g) Repeat (d) using KNN with K = 1**"
      ],
      "metadata": {
        "id": "WdBsH6kHfAa8"
      }
    },
    {
      "cell_type": "code",
      "source": [
        "# Your Code"
      ],
      "metadata": {
        "id": "9JyUbLjefAa8"
      },
      "execution_count": null,
      "outputs": []
    },
    {
      "cell_type": "markdown",
      "source": [
        "####**h) Which of these methods appears to provide the best results on this data?**"
      ],
      "metadata": {
        "id": "9SQuJqF1fAk_"
      }
    },
    {
      "cell_type": "markdown",
      "source": [
        "#####<font color=\"green\">**Answer:**</font>"
      ],
      "metadata": {
        "id": "GIF0B91NfV2X"
      }
    }
  ]
}