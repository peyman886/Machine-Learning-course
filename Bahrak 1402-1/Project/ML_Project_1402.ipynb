{
  "nbformat": 4,
  "nbformat_minor": 0,
  "metadata": {
    "colab": {
      "provenance": []
    },
    "kernelspec": {
      "name": "python3",
      "display_name": "Python 3"
    },
    "language_info": {
      "name": "python"
    }
  },
  "cells": [
    {
      "cell_type": "markdown",
      "metadata": {
        "id": "c4R8L6_xAEJq"
      },
      "source": [
        "# Information"
      ]
    },
    {
      "cell_type": "markdown",
      "metadata": {
        "id": "W8qMwBZ1WQs8"
      },
      "source": [
        "## **Students Information:**\n",
        "\n",
        "* Name = Peyman\n",
        "* Last Name = Naseri\n",
        "* Student ID = 4011305965014\n",
        "\n",
        "\n"
      ]
    },
    {
      "cell_type": "markdown",
      "metadata": {
        "id": "zqwLS89sALIo"
      },
      "source": [
        "## **Project Information:**\n",
        "* Course: Deep Learning\n",
        "* Project Definition: [link](https://github.com/peyman886/Machine_Learning/blob/main/Bahrak%201402-1/Project/Machine%20Learning%20-%20Final%20Project.pdf)\n",
        "* colab: [link](https://colab.research.google.com/drive/1KYqodYoOOwNVOjosg-RJKuI8snMqFSoD?usp=sharing)\n",
        "* github: [link] ()"
      ]
    },
    {
      "cell_type": "markdown",
      "metadata": {
        "id": "Yug6ZOp-mugq"
      },
      "source": [
        "# Setup"
      ]
    },
    {
      "cell_type": "markdown",
      "metadata": {
        "id": "vCK8LnZQBNVM"
      },
      "source": [
        "## GPU Setup"
      ]
    },
    {
      "cell_type": "markdown",
      "metadata": {
        "id": "jkJe05dJbz79"
      },
      "source": [
        "\n",
        "for use local gpu run this comand in anaconda prompet:\n",
        "\n",
        "      1) pip install jupyter_http_over_ws\n",
        "      2) jupyter serverextension enable --py jupyter_http_over_ws\n",
        "      3) jupyter notebook --NotebookApp.allow_origin='https://colab.research.google.com' --port=8888 --NotebookApp.port_retries=0\n",
        "      \n",
        "copy url and paste on colab"
      ]
    },
    {
      "cell_type": "code",
      "execution_count": null,
      "metadata": {
        "id": "jb-jj78BsGRp"
      },
      "outputs": [],
      "source": [
        "import torch\n",
        "#Check GPU\n",
        "# torch.cuda.get_device_name(0)"
      ]
    },
    {
      "cell_type": "markdown",
      "metadata": {
        "id": "fGmyZO4l6n63"
      },
      "source": [
        "## Change `cuda` Version for installing `mxnet` and `datawig`"
      ]
    },
    {
      "cell_type": "code",
      "execution_count": null,
      "metadata": {
        "id": "O1yW4h6t1-SD"
      },
      "outputs": [],
      "source": [
        "#Uninstall the current CUDA version\n",
        "\n",
        "# !apt-get --purge remove cuda nvidia* libnvidia-*\n",
        "# !dpkg -l | grep cuda- | awk '{print $2}' | xargs -n1 dpkg --purge\n",
        "# !apt-get remove cuda-*\n",
        "# !apt autoremove\n",
        "# !apt-get update"
      ]
    },
    {
      "cell_type": "code",
      "execution_count": null,
      "metadata": {
        "id": "vEFk83le0IUH"
      },
      "outputs": [],
      "source": [
        "# !wget https://developer.nvidia.com/compute/cuda/9.0/Prod/local_installers/cuda-repo-ubuntu1604-9-0-local_9.0.176-1_amd64-deb\n",
        "# !dpkg -i cuda-repo-ubuntu1604-9-0-local_9.0.176-1_amd64-deb\n",
        "# !apt-key add /var/cuda-repo-9-0-local/7fa2af80.pub\n",
        "# !apt-get update\n",
        "# !apt-get install cuda=9.0.176-1"
      ]
    },
    {
      "cell_type": "code",
      "execution_count": null,
      "metadata": {
        "id": "aoObpRc40evH"
      },
      "outputs": [],
      "source": [
        "# !nvcc --version"
      ]
    },
    {
      "cell_type": "code",
      "execution_count": null,
      "metadata": {
        "id": "jN3526wKvNyA"
      },
      "outputs": [],
      "source": [
        "# !pip install spacy==2.0.18 folium==0.2.1 imgaug==0.2.7\n",
        "# !pip install numpy\n",
        "\n",
        "# #Lets install all the package needed\n",
        "# !pip install mxnet-cu90\n",
        "# !pip install gluoncv\n",
        "# !pip install d2l\n",
        "\n",
        "# #datawig\n",
        "# !wget https://raw.githubusercontent.com/awslabs/datawig/master/requirements/requirements.gpu-cu90.txt\n",
        "# !pip install datawig --no-deps -r requirements.gpu-cu90.txt\n",
        "# !rm requirements.gpu-cu90.txt"
      ]
    },
    {
      "cell_type": "code",
      "execution_count": null,
      "metadata": {
        "id": "dlpE_8mXwGwP"
      },
      "outputs": [],
      "source": [
        "# # check gpu\n",
        "# from mxnet import nd, gpu, gluon, autograd\n",
        "# from mxnet.gluon import nn\n",
        "# from mxnet.gluon.data.vision import datasets, transforms\n",
        "# import time\n",
        "# y = nd.random.uniform(shape=(3,4), ctx=gpu(0))\n",
        "# print(y)"
      ]
    },
    {
      "cell_type": "markdown",
      "metadata": {
        "id": "vEQHRFY7sOqO"
      },
      "source": [
        "## Install required package"
      ]
    },
    {
      "cell_type": "code",
      "execution_count": null,
      "metadata": {
        "colab": {
          "base_uri": "https://localhost:8080/"
        },
        "id": "65xVgtI1sMQP",
        "outputId": "8243cdb8-ad2a-4aef-a328-87b2a12ae9a9"
      },
      "outputs": [
        {
          "name": "stdout",
          "output_type": "stream",
          "text": [
            "Requirement already satisfied: xgboost in /usr/local/lib/python3.7/dist-packages (0.90)\n",
            "Requirement already satisfied: scipy in /usr/local/lib/python3.7/dist-packages (from xgboost) (1.4.1)\n",
            "Requirement already satisfied: numpy in /usr/local/lib/python3.7/dist-packages (from xgboost) (1.19.5)\n",
            "Requirement already satisfied: lightgbm in /usr/local/lib/python3.7/dist-packages (2.2.3)\n",
            "Requirement already satisfied: scipy in /usr/local/lib/python3.7/dist-packages (from lightgbm) (1.4.1)\n",
            "Requirement already satisfied: numpy in /usr/local/lib/python3.7/dist-packages (from lightgbm) (1.19.5)\n",
            "Requirement already satisfied: scikit-learn in /usr/local/lib/python3.7/dist-packages (from lightgbm) (1.0.2)\n",
            "Requirement already satisfied: joblib>=0.11 in /usr/local/lib/python3.7/dist-packages (from scikit-learn->lightgbm) (1.1.0)\n",
            "Requirement already satisfied: threadpoolctl>=2.0.0 in /usr/local/lib/python3.7/dist-packages (from scikit-learn->lightgbm) (3.1.0)\n"
          ]
        }
      ],
      "source": [
        "# ! pip install --upgrade category_encoders\n",
        "# ! pip install catboost\n",
        "! pip install xgboost\n",
        "! pip install lightgbm\n",
        "# ! pip install pandas-profiling==3.1.  0   # generates comprehensive reports automatically\n",
        "# ! pip install -U deepctr-torch\n",
        "# ! pip install pytorch-widedeep\n",
        "\n",
        "# ! pip install datawig\n",
        "\n",
        "# ! gdown https://raw.githubusercontent.com/awslabs/datawig/master/requirements/requirements.gpu-cu90.txt\n",
        "# ! pip install datawig --no-deps -r requirements.gpu-cu90.txt\n",
        "# ! rm requirements.gpu-cu90.txt\n",
        "\n"
      ]
    },
    {
      "cell_type": "markdown",
      "metadata": {
        "id": "4y6pOgefTKqA"
      },
      "source": [
        "## Download Data\n",
        "This line will download the csv file from provided [public link](https://drive.google.com/file/d/1HBH9S64qfm_e2BNuCVDh_ipVaRmdufo7/view) in google drive"
      ]
    },
    {
      "cell_type": "code",
      "execution_count": null,
      "metadata": {
        "colab": {
          "base_uri": "https://localhost:8080/"
        },
        "id": "Muk2fPmj9uWH",
        "outputId": "4617dfdb-9ae2-4164-be6d-f13b8a42dfbb"
      },
      "outputs": [
        {
          "name": "stdout",
          "output_type": "stream",
          "text": [
            "Downloading...\n",
            "From: https://drive.google.com/uc?id=1HBH9S64qfm_e2BNuCVDh_ipVaRmdufo7\n",
            "To: /content/train_dataset.csv\n",
            "100% 39.1M/39.1M [00:00<00:00, 151MB/s]\n"
          ]
        }
      ],
      "source": [
        "! gdown --id 1HBH9S64qfm_e2BNuCVDh_ipVaRmdufo7"
      ]
    },
    {
      "cell_type": "markdown",
      "metadata": {
        "id": "pQ0Npccbi_am"
      },
      "source": [
        "## Import & Config Packages"
      ]
    },
    {
      "cell_type": "code",
      "execution_count": null,
      "metadata": {
        "id": "BGP9YIMHhOgT"
      },
      "outputs": [],
      "source": [
        "from google.colab import files\n",
        "import os\n",
        "import numpy as np\n",
        "import pandas as pd\n",
        "# from pandas_profiling import ProfileReport\n",
        "\n",
        "import matplotlib.pyplot as plt\n",
        "import seaborn as sns\n",
        "%matplotlib inline\n",
        "sns.set()\n",
        "plt.style.use(\"ggplot\")\n",
        "\n",
        "import warnings\n",
        "warnings.filterwarnings('ignore')"
      ]
    },
    {
      "cell_type": "markdown",
      "metadata": {
        "id": "4ER5RJo-16Wv"
      },
      "source": [
        "## Read and Split Data"
      ]
    },
    {
      "cell_type": "code",
      "execution_count": null,
      "metadata": {
        "colab": {
          "base_uri": "https://localhost:8080/"
        },
        "id": "18h1SVU32SBU",
        "outputId": "e1869c7e-6ce3-49de-93dc-2af571c031db"
      },
      "outputs": [
        {
          "name": "stdout",
          "output_type": "stream",
          "text": [
            "train size:  70000\n",
            "valid size:  20000\n",
            "test size :  10000\n"
          ]
        }
      ],
      "source": [
        "from typing import Generator\n",
        "raw_df = pd.read_csv('train_dataset.csv', parse_dates=['click_timestamp'])\n",
        "\n",
        "train_size = 0.7\n",
        "validation_size = 0.2\n",
        "test_size = 0.1\n",
        "\n",
        "# train dataset\n",
        "df= raw_df.sample(frac=train_size,random_state=200) #random state is a seed value\n",
        "\n",
        "temp= raw_df.drop(df.index)\n",
        "\n",
        "# validation dataset\n",
        "val_df = temp.sample(frac=validation_size/(1-train_size),random_state=201)\n",
        "\n",
        "# test dataset\n",
        "test_df = temp.drop(val_df.index)\n",
        "\n",
        "print(\"train size: \", len(df))\n",
        "print(\"valid size: \", len(val_df))\n",
        "print(\"test size : \", len(test_df))\n"
      ]
    }
  ]
}